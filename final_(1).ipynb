{
  "nbformat": 4,
  "nbformat_minor": 0,
  "metadata": {
    "kernelspec": {
      "language": "python",
      "display_name": "Python 3",
      "name": "python3"
    },
    "language_info": {
      "name": "python",
      "version": "3.7.10",
      "mimetype": "text/x-python",
      "codemirror_mode": {
        "name": "ipython",
        "version": 3
      },
      "pygments_lexer": "ipython3",
      "nbconvert_exporter": "python",
      "file_extension": ".py"
    },
    "colab": {
      "name": "final (1).ipynb",
      "provenance": [],
      "collapsed_sections": []
    },
    "accelerator": "GPU"
  },
  "cells": [
    {
      "cell_type": "code",
      "metadata": {
        "_uuid": "8f2839f25d086af736a60e9eeb907d3b93b6e0e5",
        "_cell_guid": "b1076dfc-b9ad-4769-8c92-a6c4dae69d19",
        "execution": {
          "iopub.status.busy": "2021-07-08T19:48:09.342700Z",
          "iopub.execute_input": "2021-07-08T19:48:09.343321Z",
          "iopub.status.idle": "2021-07-08T19:48:09.373727Z",
          "shell.execute_reply.started": "2021-07-08T19:48:09.343176Z",
          "shell.execute_reply": "2021-07-08T19:48:09.372064Z"
        },
        "trusted": true,
        "id": "JdaDmDZicBDt"
      },
      "source": [
        "# This Python 3 environment comes with many helpful analytics libraries installed\n",
        "# It is defined by the kaggle/python Docker image: https://github.com/kaggle/docker-python\n",
        "# For example, here's several helpful packages to load\n",
        "\n",
        "import numpy as np # linear algebra\n",
        "import pandas as pd # data processing, CSV file I/O (e.g. pd.read_csv)\n",
        "\n",
        "# Input data files are available in the read-only \"../input/\" directory\n",
        "# For example, running this (by clicking run or pressing Shift+Enter) will list all files under the input directory\n",
        "\n",
        "import os\n",
        "for dirname, _, filenames in os.walk('/kaggle/input'):\n",
        "    for filename in filenames:\n",
        "        print(os.path.join(dirname, filename))\n",
        "\n",
        "# You can write up to 20GB to the current directory (/kaggle/working/) that gets preserved as output when you create a version using \"Save & Run All\" \n",
        "# You can also write temporary files to /kaggle/temp/, but they won't be saved outside of the current session"
      ],
      "execution_count": 20,
      "outputs": []
    },
    {
      "cell_type": "code",
      "metadata": {
        "execution": {
          "iopub.status.busy": "2021-07-08T19:48:09.376295Z",
          "iopub.execute_input": "2021-07-08T19:48:09.376941Z",
          "iopub.status.idle": "2021-07-08T19:48:09.390189Z",
          "shell.execute_reply.started": "2021-07-08T19:48:09.376888Z",
          "shell.execute_reply": "2021-07-08T19:48:09.388734Z"
        },
        "trusted": true,
        "id": "K3BuUhjacBDv"
      },
      "source": [
        "#!pip install example --use-feature=2020-resolver"
      ],
      "execution_count": 21,
      "outputs": []
    },
    {
      "cell_type": "code",
      "metadata": {
        "execution": {
          "iopub.status.busy": "2021-07-08T19:48:09.393952Z",
          "iopub.execute_input": "2021-07-08T19:48:09.394890Z",
          "iopub.status.idle": "2021-07-08T19:48:09.405968Z",
          "shell.execute_reply.started": "2021-07-08T19:48:09.394825Z",
          "shell.execute_reply": "2021-07-08T19:48:09.403676Z"
        },
        "trusted": true,
        "id": "HX_mYXq6cBDw"
      },
      "source": [
        "#!pip install --upgrade scikit-learn"
      ],
      "execution_count": 22,
      "outputs": []
    },
    {
      "cell_type": "code",
      "metadata": {
        "execution": {
          "iopub.status.busy": "2021-07-08T19:48:09.413281Z",
          "iopub.execute_input": "2021-07-08T19:48:09.413916Z",
          "iopub.status.idle": "2021-07-08T19:48:09.870568Z",
          "shell.execute_reply.started": "2021-07-08T19:48:09.413861Z",
          "shell.execute_reply": "2021-07-08T19:48:09.869701Z"
        },
        "trusted": true,
        "id": "AtQoOb2ZcBDw"
      },
      "source": [
        "import matplotlib.pyplot as plt\n",
        "import seaborn as sns\n",
        "from sklearn.linear_model import SGDClassifier,RidgeClassifier\n",
        "from sklearn.linear_model import LogisticRegression"
      ],
      "execution_count": 23,
      "outputs": []
    },
    {
      "cell_type": "code",
      "metadata": {
        "execution": {
          "iopub.status.busy": "2021-07-08T19:48:09.871670Z",
          "iopub.execute_input": "2021-07-08T19:48:09.872123Z",
          "iopub.status.idle": "2021-07-08T19:48:13.113671Z",
          "shell.execute_reply.started": "2021-07-08T19:48:09.872090Z",
          "shell.execute_reply": "2021-07-08T19:48:13.112604Z"
        },
        "trusted": true,
        "colab": {
          "base_uri": "https://localhost:8080/"
        },
        "id": "_cl52UK9cBDx",
        "outputId": "a234c34f-6da8-4332-ffe3-1380653d449a"
      },
      "source": [
        "train=pd.read_csv('https://raw.githubusercontent.com/Nir-J/ML-Projects/master/UNSW-Network_Packet_Classification/UNSW_NB15_training-set.csv')\n",
        "test = pd.read_csv('https://raw.githubusercontent.com/Nir-J/ML-Projects/master/UNSW-Network_Packet_Classification/UNSW_NB15_testing-set.csv')\n",
        "print(\"Traning data length\",len(train))\n",
        "print(\"Testing data length\",len(test))"
      ],
      "execution_count": 24,
      "outputs": [
        {
          "output_type": "stream",
          "text": [
            "Traning data length 175341\n",
            "Testing data length 82332\n"
          ],
          "name": "stdout"
        }
      ]
    },
    {
      "cell_type": "code",
      "metadata": {
        "execution": {
          "iopub.status.busy": "2021-07-08T19:48:13.114961Z",
          "iopub.execute_input": "2021-07-08T19:48:13.115295Z",
          "iopub.status.idle": "2021-07-08T19:48:13.150231Z",
          "shell.execute_reply.started": "2021-07-08T19:48:13.115263Z",
          "shell.execute_reply": "2021-07-08T19:48:13.149135Z"
        },
        "trusted": true,
        "colab": {
          "base_uri": "https://localhost:8080/",
          "height": 223
        },
        "id": "zngnOVQWcBDx",
        "outputId": "df66d33f-a8b0-49ba-8618-2495479551a7"
      },
      "source": [
        "train.head()"
      ],
      "execution_count": 25,
      "outputs": [
        {
          "output_type": "execute_result",
          "data": {
            "text/html": [
              "<div>\n",
              "<style scoped>\n",
              "    .dataframe tbody tr th:only-of-type {\n",
              "        vertical-align: middle;\n",
              "    }\n",
              "\n",
              "    .dataframe tbody tr th {\n",
              "        vertical-align: top;\n",
              "    }\n",
              "\n",
              "    .dataframe thead th {\n",
              "        text-align: right;\n",
              "    }\n",
              "</style>\n",
              "<table border=\"1\" class=\"dataframe\">\n",
              "  <thead>\n",
              "    <tr style=\"text-align: right;\">\n",
              "      <th></th>\n",
              "      <th>id</th>\n",
              "      <th>dur</th>\n",
              "      <th>proto</th>\n",
              "      <th>service</th>\n",
              "      <th>state</th>\n",
              "      <th>spkts</th>\n",
              "      <th>dpkts</th>\n",
              "      <th>sbytes</th>\n",
              "      <th>dbytes</th>\n",
              "      <th>rate</th>\n",
              "      <th>sttl</th>\n",
              "      <th>dttl</th>\n",
              "      <th>sload</th>\n",
              "      <th>dload</th>\n",
              "      <th>sloss</th>\n",
              "      <th>dloss</th>\n",
              "      <th>sinpkt</th>\n",
              "      <th>dinpkt</th>\n",
              "      <th>sjit</th>\n",
              "      <th>djit</th>\n",
              "      <th>swin</th>\n",
              "      <th>stcpb</th>\n",
              "      <th>dtcpb</th>\n",
              "      <th>dwin</th>\n",
              "      <th>tcprtt</th>\n",
              "      <th>synack</th>\n",
              "      <th>ackdat</th>\n",
              "      <th>smean</th>\n",
              "      <th>dmean</th>\n",
              "      <th>trans_depth</th>\n",
              "      <th>response_body_len</th>\n",
              "      <th>ct_srv_src</th>\n",
              "      <th>ct_state_ttl</th>\n",
              "      <th>ct_dst_ltm</th>\n",
              "      <th>ct_src_dport_ltm</th>\n",
              "      <th>ct_dst_sport_ltm</th>\n",
              "      <th>ct_dst_src_ltm</th>\n",
              "      <th>is_ftp_login</th>\n",
              "      <th>ct_ftp_cmd</th>\n",
              "      <th>ct_flw_http_mthd</th>\n",
              "      <th>ct_src_ltm</th>\n",
              "      <th>ct_srv_dst</th>\n",
              "      <th>is_sm_ips_ports</th>\n",
              "      <th>attack_cat</th>\n",
              "      <th>label</th>\n",
              "    </tr>\n",
              "  </thead>\n",
              "  <tbody>\n",
              "    <tr>\n",
              "      <th>0</th>\n",
              "      <td>1</td>\n",
              "      <td>0.121478</td>\n",
              "      <td>tcp</td>\n",
              "      <td>-</td>\n",
              "      <td>FIN</td>\n",
              "      <td>6</td>\n",
              "      <td>4</td>\n",
              "      <td>258</td>\n",
              "      <td>172</td>\n",
              "      <td>74.087490</td>\n",
              "      <td>252</td>\n",
              "      <td>254</td>\n",
              "      <td>14158.942380</td>\n",
              "      <td>8495.365234</td>\n",
              "      <td>0</td>\n",
              "      <td>0</td>\n",
              "      <td>24.295600</td>\n",
              "      <td>8.375000</td>\n",
              "      <td>30.177547</td>\n",
              "      <td>11.830604</td>\n",
              "      <td>255</td>\n",
              "      <td>621772692</td>\n",
              "      <td>2202533631</td>\n",
              "      <td>255</td>\n",
              "      <td>0.000000</td>\n",
              "      <td>0.000000</td>\n",
              "      <td>0.000000</td>\n",
              "      <td>43</td>\n",
              "      <td>43</td>\n",
              "      <td>0</td>\n",
              "      <td>0</td>\n",
              "      <td>1</td>\n",
              "      <td>0</td>\n",
              "      <td>1</td>\n",
              "      <td>1</td>\n",
              "      <td>1</td>\n",
              "      <td>1</td>\n",
              "      <td>0</td>\n",
              "      <td>0</td>\n",
              "      <td>0</td>\n",
              "      <td>1</td>\n",
              "      <td>1</td>\n",
              "      <td>0</td>\n",
              "      <td>Normal</td>\n",
              "      <td>0</td>\n",
              "    </tr>\n",
              "    <tr>\n",
              "      <th>1</th>\n",
              "      <td>2</td>\n",
              "      <td>0.649902</td>\n",
              "      <td>tcp</td>\n",
              "      <td>-</td>\n",
              "      <td>FIN</td>\n",
              "      <td>14</td>\n",
              "      <td>38</td>\n",
              "      <td>734</td>\n",
              "      <td>42014</td>\n",
              "      <td>78.473372</td>\n",
              "      <td>62</td>\n",
              "      <td>252</td>\n",
              "      <td>8395.112305</td>\n",
              "      <td>503571.312500</td>\n",
              "      <td>2</td>\n",
              "      <td>17</td>\n",
              "      <td>49.915000</td>\n",
              "      <td>15.432865</td>\n",
              "      <td>61.426934</td>\n",
              "      <td>1387.778330</td>\n",
              "      <td>255</td>\n",
              "      <td>1417884146</td>\n",
              "      <td>3077387971</td>\n",
              "      <td>255</td>\n",
              "      <td>0.000000</td>\n",
              "      <td>0.000000</td>\n",
              "      <td>0.000000</td>\n",
              "      <td>52</td>\n",
              "      <td>1106</td>\n",
              "      <td>0</td>\n",
              "      <td>0</td>\n",
              "      <td>43</td>\n",
              "      <td>1</td>\n",
              "      <td>1</td>\n",
              "      <td>1</td>\n",
              "      <td>1</td>\n",
              "      <td>2</td>\n",
              "      <td>0</td>\n",
              "      <td>0</td>\n",
              "      <td>0</td>\n",
              "      <td>1</td>\n",
              "      <td>6</td>\n",
              "      <td>0</td>\n",
              "      <td>Normal</td>\n",
              "      <td>0</td>\n",
              "    </tr>\n",
              "    <tr>\n",
              "      <th>2</th>\n",
              "      <td>3</td>\n",
              "      <td>1.623129</td>\n",
              "      <td>tcp</td>\n",
              "      <td>-</td>\n",
              "      <td>FIN</td>\n",
              "      <td>8</td>\n",
              "      <td>16</td>\n",
              "      <td>364</td>\n",
              "      <td>13186</td>\n",
              "      <td>14.170161</td>\n",
              "      <td>62</td>\n",
              "      <td>252</td>\n",
              "      <td>1572.271851</td>\n",
              "      <td>60929.230470</td>\n",
              "      <td>1</td>\n",
              "      <td>6</td>\n",
              "      <td>231.875571</td>\n",
              "      <td>102.737203</td>\n",
              "      <td>17179.586860</td>\n",
              "      <td>11420.926230</td>\n",
              "      <td>255</td>\n",
              "      <td>2116150707</td>\n",
              "      <td>2963114973</td>\n",
              "      <td>255</td>\n",
              "      <td>0.111897</td>\n",
              "      <td>0.061458</td>\n",
              "      <td>0.050439</td>\n",
              "      <td>46</td>\n",
              "      <td>824</td>\n",
              "      <td>0</td>\n",
              "      <td>0</td>\n",
              "      <td>7</td>\n",
              "      <td>1</td>\n",
              "      <td>2</td>\n",
              "      <td>1</td>\n",
              "      <td>1</td>\n",
              "      <td>3</td>\n",
              "      <td>0</td>\n",
              "      <td>0</td>\n",
              "      <td>0</td>\n",
              "      <td>2</td>\n",
              "      <td>6</td>\n",
              "      <td>0</td>\n",
              "      <td>Normal</td>\n",
              "      <td>0</td>\n",
              "    </tr>\n",
              "    <tr>\n",
              "      <th>3</th>\n",
              "      <td>4</td>\n",
              "      <td>1.681642</td>\n",
              "      <td>tcp</td>\n",
              "      <td>ftp</td>\n",
              "      <td>FIN</td>\n",
              "      <td>12</td>\n",
              "      <td>12</td>\n",
              "      <td>628</td>\n",
              "      <td>770</td>\n",
              "      <td>13.677108</td>\n",
              "      <td>62</td>\n",
              "      <td>252</td>\n",
              "      <td>2740.178955</td>\n",
              "      <td>3358.622070</td>\n",
              "      <td>1</td>\n",
              "      <td>3</td>\n",
              "      <td>152.876547</td>\n",
              "      <td>90.235726</td>\n",
              "      <td>259.080172</td>\n",
              "      <td>4991.784669</td>\n",
              "      <td>255</td>\n",
              "      <td>1107119177</td>\n",
              "      <td>1047442890</td>\n",
              "      <td>255</td>\n",
              "      <td>0.000000</td>\n",
              "      <td>0.000000</td>\n",
              "      <td>0.000000</td>\n",
              "      <td>52</td>\n",
              "      <td>64</td>\n",
              "      <td>0</td>\n",
              "      <td>0</td>\n",
              "      <td>1</td>\n",
              "      <td>1</td>\n",
              "      <td>2</td>\n",
              "      <td>1</td>\n",
              "      <td>1</td>\n",
              "      <td>3</td>\n",
              "      <td>1</td>\n",
              "      <td>1</td>\n",
              "      <td>0</td>\n",
              "      <td>2</td>\n",
              "      <td>1</td>\n",
              "      <td>0</td>\n",
              "      <td>Normal</td>\n",
              "      <td>0</td>\n",
              "    </tr>\n",
              "    <tr>\n",
              "      <th>4</th>\n",
              "      <td>5</td>\n",
              "      <td>0.449454</td>\n",
              "      <td>tcp</td>\n",
              "      <td>-</td>\n",
              "      <td>FIN</td>\n",
              "      <td>10</td>\n",
              "      <td>6</td>\n",
              "      <td>534</td>\n",
              "      <td>268</td>\n",
              "      <td>33.373826</td>\n",
              "      <td>254</td>\n",
              "      <td>252</td>\n",
              "      <td>8561.499023</td>\n",
              "      <td>3987.059814</td>\n",
              "      <td>2</td>\n",
              "      <td>1</td>\n",
              "      <td>47.750333</td>\n",
              "      <td>75.659602</td>\n",
              "      <td>2415.837634</td>\n",
              "      <td>115.807000</td>\n",
              "      <td>255</td>\n",
              "      <td>2436137549</td>\n",
              "      <td>1977154190</td>\n",
              "      <td>255</td>\n",
              "      <td>0.128381</td>\n",
              "      <td>0.071147</td>\n",
              "      <td>0.057234</td>\n",
              "      <td>53</td>\n",
              "      <td>45</td>\n",
              "      <td>0</td>\n",
              "      <td>0</td>\n",
              "      <td>43</td>\n",
              "      <td>1</td>\n",
              "      <td>2</td>\n",
              "      <td>2</td>\n",
              "      <td>1</td>\n",
              "      <td>40</td>\n",
              "      <td>0</td>\n",
              "      <td>0</td>\n",
              "      <td>0</td>\n",
              "      <td>2</td>\n",
              "      <td>39</td>\n",
              "      <td>0</td>\n",
              "      <td>Normal</td>\n",
              "      <td>0</td>\n",
              "    </tr>\n",
              "  </tbody>\n",
              "</table>\n",
              "</div>"
            ],
            "text/plain": [
              "   id       dur proto service  ... ct_srv_dst  is_sm_ips_ports  attack_cat  label\n",
              "0   1  0.121478   tcp       -  ...          1                0      Normal      0\n",
              "1   2  0.649902   tcp       -  ...          6                0      Normal      0\n",
              "2   3  1.623129   tcp       -  ...          6                0      Normal      0\n",
              "3   4  1.681642   tcp     ftp  ...          1                0      Normal      0\n",
              "4   5  0.449454   tcp       -  ...         39                0      Normal      0\n",
              "\n",
              "[5 rows x 45 columns]"
            ]
          },
          "metadata": {
            "tags": []
          },
          "execution_count": 25
        }
      ]
    },
    {
      "cell_type": "code",
      "metadata": {
        "execution": {
          "iopub.status.busy": "2021-07-08T19:48:13.151555Z",
          "iopub.execute_input": "2021-07-08T19:48:13.151885Z",
          "iopub.status.idle": "2021-07-08T19:48:13.996292Z",
          "shell.execute_reply.started": "2021-07-08T19:48:13.151846Z",
          "shell.execute_reply": "2021-07-08T19:48:13.995505Z"
        },
        "trusted": true,
        "colab": {
          "base_uri": "https://localhost:8080/",
          "height": 406
        },
        "id": "iMNW6BqWcBDy",
        "outputId": "5a2ddcd7-eaad-4e81-d996-3990be0de7ab"
      },
      "source": [
        "import seaborn as sns\n",
        "f, axes = plt.subplots(1, 2, figsize=(14, 5))\n",
        "df = pd.concat([train, test], ignore_index=True)\n",
        "# Create the plots\n",
        "sns.countplot(x=\"label\", data=df,ax=axes[0])\n",
        "sns.countplot(x=\"attack_cat\", data=df, order = train['attack_cat'].value_counts().index)\n",
        "\n",
        "axes[1].tick_params('x', labelrotation=45)\n",
        "axes[0].set_xticklabels([\"Normal\", \"Attack\"])\n",
        "axes[0].set_xlabel(\"Label\")\n",
        "axes[1].set_xlabel(\"Attacks\")\n",
        "axes[0].set_ylabel(\"Frequency count\")\n",
        "axes[1].set_ylabel(\"Frequency count\")\n",
        "\n"
      ],
      "execution_count": 26,
      "outputs": [
        {
          "output_type": "execute_result",
          "data": {
            "text/plain": [
              "Text(0, 0.5, 'Frequency count')"
            ]
          },
          "metadata": {
            "tags": []
          },
          "execution_count": 26
        },
        {
          "output_type": "display_data",
          "data": {
            "image/png": "[encoded data removed]",
            "text/plain": [
              "<Figure size 1008x360 with 2 Axes>"
            ]
          },
          "metadata": {
            "tags": [],
            "needs_background": "light"
          }
        }
      ]
    },
    {
      "cell_type": "code",
      "metadata": {
        "id": "orQ1WGiGt5Zo"
      },
      "source": [
        ""
      ],
      "execution_count": 26,
      "outputs": []
    },
    {
      "cell_type": "code",
      "metadata": {
        "execution": {
          "iopub.status.busy": "2021-07-08T19:48:13.998638Z",
          "iopub.execute_input": "2021-07-08T19:48:13.999151Z",
          "iopub.status.idle": "2021-07-08T19:48:14.242900Z",
          "shell.execute_reply.started": "2021-07-08T19:48:13.999117Z",
          "shell.execute_reply": "2021-07-08T19:48:14.241889Z"
        },
        "trusted": true,
        "colab": {
          "base_uri": "https://localhost:8080/"
        },
        "id": "MPUqKSeVcBDz",
        "outputId": "9f6261b7-6c80-42be-826b-ec1f180c68d5"
      },
      "source": [
        "train.info()"
      ],
      "execution_count": 27,
      "outputs": [
        {
          "output_type": "stream",
          "text": [
            "<class 'pandas.core.frame.DataFrame'>\n",
            "RangeIndex: 175341 entries, 0 to 175340\n",
            "Data columns (total 45 columns):\n",
            " #   Column             Non-Null Count   Dtype  \n",
            "---  ------             --------------   -----  \n",
            " 0   id                 175341 non-null  int64  \n",
            " 1   dur                175341 non-null  float64\n",
            " 2   proto              175341 non-null  object \n",
            " 3   service            175341 non-null  object \n",
            " 4   state              175341 non-null  object \n",
            " 5   spkts              175341 non-null  int64  \n",
            " 6   dpkts              175341 non-null  int64  \n",
            " 7   sbytes             175341 non-null  int64  \n",
            " 8   dbytes             175341 non-null  int64  \n",
            " 9   rate               175341 non-null  float64\n",
            " 10  sttl               175341 non-null  int64  \n",
            " 11  dttl               175341 non-null  int64  \n",
            " 12  sload              175341 non-null  float64\n",
            " 13  dload              175341 non-null  float64\n",
            " 14  sloss              175341 non-null  int64  \n",
            " 15  dloss              175341 non-null  int64  \n",
            " 16  sinpkt             175341 non-null  float64\n",
            " 17  dinpkt             175341 non-null  float64\n",
            " 18  sjit               175341 non-null  float64\n",
            " 19  djit               175341 non-null  float64\n",
            " 20  swin               175341 non-null  int64  \n",
            " 21  stcpb              175341 non-null  int64  \n",
            " 22  dtcpb              175341 non-null  int64  \n",
            " 23  dwin               175341 non-null  int64  \n",
            " 24  tcprtt             175341 non-null  float64\n",
            " 25  synack             175341 non-null  float64\n",
            " 26  ackdat             175341 non-null  float64\n",
            " 27  smean              175341 non-null  int64  \n",
            " 28  dmean              175341 non-null  int64  \n",
            " 29  trans_depth        175341 non-null  int64  \n",
            " 30  response_body_len  175341 non-null  int64  \n",
            " 31  ct_srv_src         175341 non-null  int64  \n",
            " 32  ct_state_ttl       175341 non-null  int64  \n",
            " 33  ct_dst_ltm         175341 non-null  int64  \n",
            " 34  ct_src_dport_ltm   175341 non-null  int64  \n",
            " 35  ct_dst_sport_ltm   175341 non-null  int64  \n",
            " 36  ct_dst_src_ltm     175341 non-null  int64  \n",
            " 37  is_ftp_login       175341 non-null  int64  \n",
            " 38  ct_ftp_cmd         175341 non-null  int64  \n",
            " 39  ct_flw_http_mthd   175341 non-null  int64  \n",
            " 40  ct_src_ltm         175341 non-null  int64  \n",
            " 41  ct_srv_dst         175341 non-null  int64  \n",
            " 42  is_sm_ips_ports    175341 non-null  int64  \n",
            " 43  attack_cat         175341 non-null  object \n",
            " 44  label              175341 non-null  int64  \n",
            "dtypes: float64(11), int64(30), object(4)\n",
            "memory usage: 60.2+ MB\n"
          ],
          "name": "stdout"
        }
      ]
    },
    {
      "cell_type": "code",
      "metadata": {
        "execution": {
          "iopub.status.busy": "2021-07-08T19:48:14.244981Z",
          "iopub.execute_input": "2021-07-08T19:48:14.245682Z",
          "iopub.status.idle": "2021-07-08T19:48:14.337168Z",
          "shell.execute_reply.started": "2021-07-08T19:48:14.245634Z",
          "shell.execute_reply": "2021-07-08T19:48:14.336420Z"
        },
        "trusted": true,
        "colab": {
          "base_uri": "https://localhost:8080/"
        },
        "id": "RlLwDTO2cBD0",
        "outputId": "18d39209-aa4e-4cc0-83c1-887ea04f06fa"
      },
      "source": [
        "train.isnull().sum()"
      ],
      "execution_count": 28,
      "outputs": [
        {
          "output_type": "execute_result",
          "data": {
            "text/plain": [
              "id                   0\n",
              "dur                  0\n",
              "proto                0\n",
              "service              0\n",
              "state                0\n",
              "spkts                0\n",
              "dpkts                0\n",
              "sbytes               0\n",
              "dbytes               0\n",
              "rate                 0\n",
              "sttl                 0\n",
              "dttl                 0\n",
              "sload                0\n",
              "dload                0\n",
              "sloss                0\n",
              "dloss                0\n",
              "sinpkt               0\n",
              "dinpkt               0\n",
              "sjit                 0\n",
              "djit                 0\n",
              "swin                 0\n",
              "stcpb                0\n",
              "dtcpb                0\n",
              "dwin                 0\n",
              "tcprtt               0\n",
              "synack               0\n",
              "ackdat               0\n",
              "smean                0\n",
              "dmean                0\n",
              "trans_depth          0\n",
              "response_body_len    0\n",
              "ct_srv_src           0\n",
              "ct_state_ttl         0\n",
              "ct_dst_ltm           0\n",
              "ct_src_dport_ltm     0\n",
              "ct_dst_sport_ltm     0\n",
              "ct_dst_src_ltm       0\n",
              "is_ftp_login         0\n",
              "ct_ftp_cmd           0\n",
              "ct_flw_http_mthd     0\n",
              "ct_src_ltm           0\n",
              "ct_srv_dst           0\n",
              "is_sm_ips_ports      0\n",
              "attack_cat           0\n",
              "label                0\n",
              "dtype: int64"
            ]
          },
          "metadata": {
            "tags": []
          },
          "execution_count": 28
        }
      ]
    },
    {
      "cell_type": "code",
      "metadata": {
        "execution": {
          "iopub.status.busy": "2021-07-08T19:48:14.338531Z",
          "iopub.execute_input": "2021-07-08T19:48:14.339056Z",
          "iopub.status.idle": "2021-07-08T19:48:14.365578Z",
          "shell.execute_reply.started": "2021-07-08T19:48:14.339011Z",
          "shell.execute_reply": "2021-07-08T19:48:14.364391Z"
        },
        "trusted": true,
        "colab": {
          "base_uri": "https://localhost:8080/"
        },
        "id": "6z3FzkD1cBD1",
        "outputId": "c3a49895-e596-42de-db7d-183099b94b03"
      },
      "source": [
        "cat_val=(train.dtypes == np.object)\n",
        "print(train.loc[:,cat_val].head())\n",
        "list_cat=train.loc[:,cat_val].columns.tolist()\n",
        "print(list_cat)\n",
        "#print(train.loc[:,cat_val].values)"
      ],
      "execution_count": 29,
      "outputs": [
        {
          "output_type": "stream",
          "text": [
            "  proto service state attack_cat\n",
            "0   tcp       -   FIN     Normal\n",
            "1   tcp       -   FIN     Normal\n",
            "2   tcp       -   FIN     Normal\n",
            "3   tcp     ftp   FIN     Normal\n",
            "4   tcp       -   FIN     Normal\n",
            "['proto', 'service', 'state', 'attack_cat']\n"
          ],
          "name": "stdout"
        }
      ]
    },
    {
      "cell_type": "code",
      "metadata": {
        "execution": {
          "iopub.status.busy": "2021-07-08T19:48:14.367433Z",
          "iopub.execute_input": "2021-07-08T19:48:14.367827Z",
          "iopub.status.idle": "2021-07-08T19:48:14.394687Z",
          "shell.execute_reply.started": "2021-07-08T19:48:14.367785Z",
          "shell.execute_reply": "2021-07-08T19:48:14.393186Z"
        },
        "trusted": true,
        "colab": {
          "base_uri": "https://localhost:8080/"
        },
        "id": "_gIHWT6FcBD1",
        "outputId": "cf29688b-f65e-4e3c-9621-9c143b8fd10c"
      },
      "source": [
        "num_val=(train.dtypes != np.object)\n",
        "list_cat=train.loc[:,num_val].columns.tolist()\n",
        "print(list_cat)"
      ],
      "execution_count": 30,
      "outputs": [
        {
          "output_type": "stream",
          "text": [
            "['id', 'dur', 'spkts', 'dpkts', 'sbytes', 'dbytes', 'rate', 'sttl', 'dttl', 'sload', 'dload', 'sloss', 'dloss', 'sinpkt', 'dinpkt', 'sjit', 'djit', 'swin', 'stcpb', 'dtcpb', 'dwin', 'tcprtt', 'synack', 'ackdat', 'smean', 'dmean', 'trans_depth', 'response_body_len', 'ct_srv_src', 'ct_state_ttl', 'ct_dst_ltm', 'ct_src_dport_ltm', 'ct_dst_sport_ltm', 'ct_dst_src_ltm', 'is_ftp_login', 'ct_ftp_cmd', 'ct_flw_http_mthd', 'ct_src_ltm', 'ct_srv_dst', 'is_sm_ips_ports', 'label']\n"
          ],
          "name": "stdout"
        }
      ]
    },
    {
      "cell_type": "code",
      "metadata": {
        "execution": {
          "iopub.status.busy": "2021-07-08T19:48:14.397274Z",
          "iopub.execute_input": "2021-07-08T19:48:14.397770Z",
          "iopub.status.idle": "2021-07-08T19:48:14.483309Z",
          "shell.execute_reply.started": "2021-07-08T19:48:14.397716Z",
          "shell.execute_reply": "2021-07-08T19:48:14.482461Z"
        },
        "trusted": true,
        "colab": {
          "base_uri": "https://localhost:8080/"
        },
        "id": "Ip5a0GNUcBD1",
        "outputId": "921ee669-b8b5-40b9-ffaf-29ec67650b9c"
      },
      "source": [
        "print(all((train.label==1) & (train.attack_cat!='Normal'))==False)\n",
        "print(all((train.label!=1) & (train.attack_cat=='Normal'))==False)"
      ],
      "execution_count": 31,
      "outputs": [
        {
          "output_type": "stream",
          "text": [
            "True\n",
            "True\n"
          ],
          "name": "stdout"
        }
      ]
    },
    {
      "cell_type": "code",
      "metadata": {
        "execution": {
          "iopub.status.busy": "2021-07-08T19:48:14.484606Z",
          "iopub.execute_input": "2021-07-08T19:48:14.485105Z",
          "iopub.status.idle": "2021-07-08T19:48:14.586752Z",
          "shell.execute_reply.started": "2021-07-08T19:48:14.485068Z",
          "shell.execute_reply": "2021-07-08T19:48:14.586012Z"
        },
        "trusted": true,
        "colab": {
          "base_uri": "https://localhost:8080/"
        },
        "id": "n94o5dAxcBD2",
        "outputId": "713d0446-a43b-4351-b745-f9f62231fa31"
      },
      "source": [
        "mask=(train.label==1)\n",
        "print(train.loc[mask,:].service.value_counts())\n",
        "print(train.loc[mask,:].proto.value_counts())"
      ],
      "execution_count": 32,
      "outputs": [
        {
          "output_type": "stream",
          "text": [
            "-           57656\n",
            "dns         39801\n",
            "http        13376\n",
            "smtp         3479\n",
            "ftp          2210\n",
            "ftp-data     1443\n",
            "pop3         1101\n",
            "dhcp           94\n",
            "snmp           79\n",
            "ssl            56\n",
            "irc            25\n",
            "ssh            11\n",
            "radius         10\n",
            "Name: service, dtype: int64\n",
            "udp        49361\n",
            "tcp        40825\n",
            "unas       12084\n",
            "ospf        2531\n",
            "sctp        1150\n",
            "           ...  \n",
            "netblt        98\n",
            "hmp           98\n",
            "bbn-rcc       98\n",
            "argus         98\n",
            "rdp           98\n",
            "Name: proto, Length: 129, dtype: int64\n"
          ],
          "name": "stdout"
        }
      ]
    },
    {
      "cell_type": "code",
      "metadata": {
        "execution": {
          "iopub.status.busy": "2021-07-08T19:48:14.587908Z",
          "iopub.execute_input": "2021-07-08T19:48:14.588419Z",
          "iopub.status.idle": "2021-07-08T19:48:14.642709Z",
          "shell.execute_reply.started": "2021-07-08T19:48:14.588374Z",
          "shell.execute_reply": "2021-07-08T19:48:14.641961Z"
        },
        "trusted": true,
        "colab": {
          "base_uri": "https://localhost:8080/"
        },
        "id": "bvfSHBO1cBD2",
        "outputId": "b92e8308-3272-44b0-e63b-429fe7814eb4"
      },
      "source": [
        "mask = (train.label == 0)\n",
        "print(train.loc[mask,:].service.value_counts())\n",
        "print(train.loc[mask,:].proto.value_counts())"
      ],
      "execution_count": 33,
      "outputs": [
        {
          "output_type": "stream",
          "text": [
            "-           36512\n",
            "dns          7493\n",
            "http         5348\n",
            "ftp-data     2552\n",
            "smtp         1579\n",
            "ssh          1291\n",
            "ftp          1218\n",
            "pop3            4\n",
            "radius          2\n",
            "snmp            1\n",
            "Name: service, dtype: int64\n",
            "tcp     39121\n",
            "udp     13922\n",
            "arp      2859\n",
            "ospf       64\n",
            "igmp       18\n",
            "icmp       15\n",
            "rtp         1\n",
            "Name: proto, dtype: int64\n"
          ],
          "name": "stdout"
        }
      ]
    },
    {
      "cell_type": "code",
      "metadata": {
        "execution": {
          "iopub.status.busy": "2021-07-08T19:48:14.643856Z",
          "iopub.execute_input": "2021-07-08T19:48:14.644341Z",
          "iopub.status.idle": "2021-07-08T19:48:14.650973Z",
          "shell.execute_reply.started": "2021-07-08T19:48:14.644301Z",
          "shell.execute_reply": "2021-07-08T19:48:14.649827Z"
        },
        "trusted": true,
        "colab": {
          "base_uri": "https://localhost:8080/"
        },
        "id": "wSNCYDZWcBD3",
        "outputId": "0cd31aa3-49cc-474a-8c97-5b346fd64645"
      },
      "source": [
        "print(train.columns.values)\n",
        "print(test.columns.values)\n",
        "print(len(train.columns.values))"
      ],
      "execution_count": 34,
      "outputs": [
        {
          "output_type": "stream",
          "text": [
            "['id' 'dur' 'proto' 'service' 'state' 'spkts' 'dpkts' 'sbytes' 'dbytes'\n",
            " 'rate' 'sttl' 'dttl' 'sload' 'dload' 'sloss' 'dloss' 'sinpkt' 'dinpkt'\n",
            " 'sjit' 'djit' 'swin' 'stcpb' 'dtcpb' 'dwin' 'tcprtt' 'synack' 'ackdat'\n",
            " 'smean' 'dmean' 'trans_depth' 'response_body_len' 'ct_srv_src'\n",
            " 'ct_state_ttl' 'ct_dst_ltm' 'ct_src_dport_ltm' 'ct_dst_sport_ltm'\n",
            " 'ct_dst_src_ltm' 'is_ftp_login' 'ct_ftp_cmd' 'ct_flw_http_mthd'\n",
            " 'ct_src_ltm' 'ct_srv_dst' 'is_sm_ips_ports' 'attack_cat' 'label']\n",
            "['id' 'dur' 'proto' 'service' 'state' 'spkts' 'dpkts' 'sbytes' 'dbytes'\n",
            " 'rate' 'sttl' 'dttl' 'sload' 'dload' 'sloss' 'dloss' 'sinpkt' 'dinpkt'\n",
            " 'sjit' 'djit' 'swin' 'stcpb' 'dtcpb' 'dwin' 'tcprtt' 'synack' 'ackdat'\n",
            " 'smean' 'dmean' 'trans_depth' 'response_body_len' 'ct_srv_src'\n",
            " 'ct_state_ttl' 'ct_dst_ltm' 'ct_src_dport_ltm' 'ct_dst_sport_ltm'\n",
            " 'ct_dst_src_ltm' 'is_ftp_login' 'ct_ftp_cmd' 'ct_flw_http_mthd'\n",
            " 'ct_src_ltm' 'ct_srv_dst' 'is_sm_ips_ports' 'attack_cat' 'label']\n",
            "45\n"
          ],
          "name": "stdout"
        }
      ]
    },
    {
      "cell_type": "code",
      "metadata": {
        "execution": {
          "iopub.status.busy": "2021-07-08T19:48:14.652452Z",
          "iopub.execute_input": "2021-07-08T19:48:14.652757Z",
          "iopub.status.idle": "2021-07-08T19:48:14.738905Z",
          "shell.execute_reply.started": "2021-07-08T19:48:14.652727Z",
          "shell.execute_reply": "2021-07-08T19:48:14.737769Z"
        },
        "trusted": true,
        "id": "yrV0gu_QcBD3"
      },
      "source": [
        "df = pd.concat([train, test], ignore_index=True)"
      ],
      "execution_count": 35,
      "outputs": []
    },
    {
      "cell_type": "code",
      "metadata": {
        "execution": {
          "iopub.status.busy": "2021-07-08T19:48:14.740614Z",
          "iopub.execute_input": "2021-07-08T19:48:14.740951Z",
          "iopub.status.idle": "2021-07-08T19:48:14.769326Z",
          "shell.execute_reply.started": "2021-07-08T19:48:14.740916Z",
          "shell.execute_reply": "2021-07-08T19:48:14.768138Z"
        },
        "trusted": true,
        "colab": {
          "base_uri": "https://localhost:8080/"
        },
        "id": "_DizwKTzcBD3",
        "outputId": "ab2ce656-d5f4-41d5-d4ff-d7963ad835f7"
      },
      "source": [
        "df['proto'].unique() "
      ],
      "execution_count": 36,
      "outputs": [
        {
          "output_type": "execute_result",
          "data": {
            "text/plain": [
              "array(['tcp', 'udp', 'arp', 'ospf', 'icmp', 'igmp', 'rtp', 'ddp',\n",
              "       'ipv6-frag', 'cftp', 'wsn', 'pvp', 'wb-expak', 'mtp', 'pri-enc',\n",
              "       'sat-mon', 'cphb', 'sun-nd', 'iso-ip', 'xtp', 'il', 'unas',\n",
              "       'mfe-nsp', '3pc', 'ipv6-route', 'idrp', 'bna', 'swipe',\n",
              "       'kryptolan', 'cpnx', 'rsvp', 'wb-mon', 'vmtp', 'ib', 'dgp',\n",
              "       'eigrp', 'ax.25', 'gmtp', 'pnni', 'sep', 'pgm', 'idpr-cmtp',\n",
              "       'zero', 'rvd', 'mobile', 'narp', 'fc', 'pipe', 'ipcomp', 'ipv6-no',\n",
              "       'sat-expak', 'ipv6-opts', 'snp', 'ipcv', 'br-sat-mon', 'ttp',\n",
              "       'tcf', 'nsfnet-igp', 'sprite-rpc', 'aes-sp3-d', 'sccopmce', 'sctp',\n",
              "       'qnx', 'scps', 'etherip', 'aris', 'pim', 'compaq-peer', 'vrrp',\n",
              "       'iatp', 'stp', 'l2tp', 'srp', 'sm', 'isis', 'smp', 'fire', 'ptp',\n",
              "       'crtp', 'sps', 'merit-inp', 'idpr', 'skip', 'any', 'larp', 'ipip',\n",
              "       'micp', 'encap', 'ifmp', 'tp++', 'a/n', 'ipv6', 'i-nlsp',\n",
              "       'ipx-n-ip', 'sdrp', 'tlsp', 'gre', 'mhrp', 'ddx', 'ippc', 'visa',\n",
              "       'secure-vmtp', 'uti', 'vines', 'crudp', 'iplt', 'ggp', 'ip',\n",
              "       'ipnip', 'st2', 'argus', 'bbn-rcc', 'egp', 'emcon', 'igp', 'nvp',\n",
              "       'pup', 'xnet', 'chaos', 'mux', 'dcn', 'hmp', 'prm', 'trunk-1',\n",
              "       'xns-idp', 'leaf-1', 'leaf-2', 'rdp', 'irtp', 'iso-tp4', 'netblt',\n",
              "       'trunk-2', 'cbt'], dtype=object)"
            ]
          },
          "metadata": {
            "tags": []
          },
          "execution_count": 36
        }
      ]
    },
    {
      "cell_type": "code",
      "metadata": {
        "execution": {
          "iopub.status.busy": "2021-07-08T19:48:14.774406Z",
          "iopub.execute_input": "2021-07-08T19:48:14.774937Z",
          "iopub.status.idle": "2021-07-08T19:48:14.801098Z",
          "shell.execute_reply.started": "2021-07-08T19:48:14.774892Z",
          "shell.execute_reply": "2021-07-08T19:48:14.800192Z"
        },
        "trusted": true,
        "colab": {
          "base_uri": "https://localhost:8080/"
        },
        "id": "NnyRRVSncBD3",
        "outputId": "a503d4c5-b90e-4edb-f39c-314b1f4fc91b"
      },
      "source": [
        "df['service'].unique() "
      ],
      "execution_count": 37,
      "outputs": [
        {
          "output_type": "execute_result",
          "data": {
            "text/plain": [
              "array(['-', 'ftp', 'smtp', 'snmp', 'http', 'ftp-data', 'dns', 'ssh',\n",
              "       'radius', 'pop3', 'dhcp', 'ssl', 'irc'], dtype=object)"
            ]
          },
          "metadata": {
            "tags": []
          },
          "execution_count": 37
        }
      ]
    },
    {
      "cell_type": "code",
      "metadata": {
        "execution": {
          "iopub.status.busy": "2021-07-08T19:48:14.802615Z",
          "iopub.execute_input": "2021-07-08T19:48:14.802933Z",
          "iopub.status.idle": "2021-07-08T19:48:14.871403Z",
          "shell.execute_reply.started": "2021-07-08T19:48:14.802901Z",
          "shell.execute_reply": "2021-07-08T19:48:14.870432Z"
        },
        "trusted": true,
        "colab": {
          "base_uri": "https://localhost:8080/"
        },
        "id": "MYsTnAoGcBD4",
        "outputId": "b263db14-c0dd-4c8f-c168-52d19d1f1175"
      },
      "source": [
        "df['service']= np.where(df['service'] == '-', 'None', df['service'])\n",
        "df['service'].unique() "
      ],
      "execution_count": 38,
      "outputs": [
        {
          "output_type": "execute_result",
          "data": {
            "text/plain": [
              "array(['None', 'ftp', 'smtp', 'snmp', 'http', 'ftp-data', 'dns', 'ssh',\n",
              "       'radius', 'pop3', 'dhcp', 'ssl', 'irc'], dtype=object)"
            ]
          },
          "metadata": {
            "tags": []
          },
          "execution_count": 38
        }
      ]
    },
    {
      "cell_type": "code",
      "metadata": {
        "execution": {
          "iopub.status.busy": "2021-07-08T19:48:14.872814Z",
          "iopub.execute_input": "2021-07-08T19:48:14.873127Z",
          "iopub.status.idle": "2021-07-08T19:48:14.898625Z",
          "shell.execute_reply.started": "2021-07-08T19:48:14.873097Z",
          "shell.execute_reply": "2021-07-08T19:48:14.897862Z"
        },
        "trusted": true,
        "colab": {
          "base_uri": "https://localhost:8080/"
        },
        "id": "SY2D40N-cBD4",
        "outputId": "7594572b-e546-42a7-8e55-9a3af2121faf"
      },
      "source": [
        "df['state'].unique()"
      ],
      "execution_count": 39,
      "outputs": [
        {
          "output_type": "execute_result",
          "data": {
            "text/plain": [
              "array(['FIN', 'INT', 'CON', 'ECO', 'REQ', 'RST', 'PAR', 'URN', 'no',\n",
              "       'ACC', 'CLO'], dtype=object)"
            ]
          },
          "metadata": {
            "tags": []
          },
          "execution_count": 39
        }
      ]
    },
    {
      "cell_type": "code",
      "metadata": {
        "execution": {
          "iopub.status.busy": "2021-07-08T19:48:14.901348Z",
          "iopub.execute_input": "2021-07-08T19:48:14.902319Z",
          "iopub.status.idle": "2021-07-08T19:48:15.308522Z",
          "shell.execute_reply.started": "2021-07-08T19:48:14.902266Z",
          "shell.execute_reply": "2021-07-08T19:48:15.307258Z"
        },
        "trusted": true,
        "id": "EL3rzIHccBD4"
      },
      "source": [
        "from sklearn import preprocessing\n",
        "df.drop(['id', 'attack_cat'], inplace=True,axis=1)\n",
        "le = preprocessing.LabelEncoder()\n",
        "\n",
        "df['proto'] = le.fit_transform(df['proto'])\n",
        "df['service'] = le.fit_transform(df['service'])\n",
        "df['state'] = le.fit_transform(df['state'])\n"
      ],
      "execution_count": 40,
      "outputs": []
    },
    {
      "cell_type": "code",
      "metadata": {
        "execution": {
          "iopub.status.busy": "2021-07-08T19:48:15.310436Z",
          "iopub.execute_input": "2021-07-08T19:48:15.311149Z",
          "iopub.status.idle": "2021-07-08T19:48:15.323041Z",
          "shell.execute_reply.started": "2021-07-08T19:48:15.311094Z",
          "shell.execute_reply": "2021-07-08T19:48:15.321426Z"
        },
        "trusted": true,
        "colab": {
          "base_uri": "https://localhost:8080/"
        },
        "id": "lU77W9lVcBD4",
        "outputId": "67c4e1de-7e6c-44b1-ee41-345bff6ddd25"
      },
      "source": [
        "df['service'].unique() "
      ],
      "execution_count": 41,
      "outputs": [
        {
          "output_type": "execute_result",
          "data": {
            "text/plain": [
              "array([ 0,  3,  9, 10,  5,  4,  2, 11,  8,  7,  1, 12,  6])"
            ]
          },
          "metadata": {
            "tags": []
          },
          "execution_count": 41
        }
      ]
    },
    {
      "cell_type": "code",
      "metadata": {
        "execution": {
          "iopub.status.busy": "2021-07-08T19:48:15.330462Z",
          "iopub.execute_input": "2021-07-08T19:48:15.330887Z",
          "iopub.status.idle": "2021-07-08T19:48:15.343326Z",
          "shell.execute_reply.started": "2021-07-08T19:48:15.330847Z",
          "shell.execute_reply": "2021-07-08T19:48:15.341745Z"
        },
        "trusted": true,
        "colab": {
          "base_uri": "https://localhost:8080/"
        },
        "id": "nwnHvaWmcBD4",
        "outputId": "0bfeb8f8-2344-4852-d8f2-434cc3b85571"
      },
      "source": [
        "df['state'].unique()"
      ],
      "execution_count": 42,
      "outputs": [
        {
          "output_type": "execute_result",
          "data": {
            "text/plain": [
              "array([ 4,  5,  2,  3,  7,  8,  6,  9, 10,  0,  1])"
            ]
          },
          "metadata": {
            "tags": []
          },
          "execution_count": 42
        }
      ]
    },
    {
      "cell_type": "code",
      "metadata": {
        "execution": {
          "iopub.status.busy": "2021-07-08T19:48:15.347316Z",
          "iopub.execute_input": "2021-07-08T19:48:15.347742Z",
          "iopub.status.idle": "2021-07-08T19:48:15.359761Z",
          "shell.execute_reply.started": "2021-07-08T19:48:15.347703Z",
          "shell.execute_reply": "2021-07-08T19:48:15.358389Z"
        },
        "trusted": true,
        "colab": {
          "base_uri": "https://localhost:8080/"
        },
        "id": "OqbdslrGcBD5",
        "outputId": "d4aa8fe5-b2e0-4386-828d-a3a0e86f90cf"
      },
      "source": [
        "df['proto'].unique() "
      ],
      "execution_count": 43,
      "outputs": [
        {
          "output_type": "execute_result",
          "data": {
            "text/plain": [
              "array([113, 119,   6,  78,  37,  42,  91,  20,  53,  12, 128,  87, 126,\n",
              "        72,  83,  94,  15, 110,  60, 131,  44, 120,  68,   0,  56,  40,\n",
              "         9, 111,  62,  16,  90, 127, 124,  36,  22,  24,   7,  31,  82,\n",
              "       100,  79,  39, 132,  92,  71,  74,  28,  81,  46,  54,  93,  55,\n",
              "       104,  47,  10, 118, 112,  76, 105,   2,  95,  97,  88,  96,  27,\n",
              "         5,  80,  14, 125,  35, 109,  63, 107, 102,  59, 103,  29,  85,\n",
              "        17, 106,  67,  38, 101,   3,  64,  48,  70,  26,  41, 115,   1,\n",
              "        52,  34,  57,  98, 114,  32,  69,  21,  51, 123,  99, 121, 122,\n",
              "        18,  49,  30,  45,  50, 108,   4,   8,  23,  25,  43,  77,  86,\n",
              "       129,  13,  73,  19,  33,  84, 116, 130,  65,  66,  89,  58,  61,\n",
              "        75, 117,  11])"
            ]
          },
          "metadata": {
            "tags": []
          },
          "execution_count": 43
        }
      ]
    },
    {
      "cell_type": "code",
      "metadata": {
        "execution": {
          "iopub.status.busy": "2021-07-08T19:48:15.361490Z",
          "iopub.execute_input": "2021-07-08T19:48:15.362178Z",
          "iopub.status.idle": "2021-07-08T19:48:15.396508Z",
          "shell.execute_reply.started": "2021-07-08T19:48:15.362127Z",
          "shell.execute_reply": "2021-07-08T19:48:15.394872Z"
        },
        "trusted": true,
        "colab": {
          "base_uri": "https://localhost:8080/",
          "height": 382
        },
        "id": "hAOnj4ZDcBD5",
        "outputId": "91c7aa1c-f78b-4c02-e442-6524e4e83daf"
      },
      "source": [
        "print(df.columns)\n",
        "df.head()"
      ],
      "execution_count": 44,
      "outputs": [
        {
          "output_type": "stream",
          "text": [
            "Index(['dur', 'proto', 'service', 'state', 'spkts', 'dpkts', 'sbytes',\n",
            "       'dbytes', 'rate', 'sttl', 'dttl', 'sload', 'dload', 'sloss', 'dloss',\n",
            "       'sinpkt', 'dinpkt', 'sjit', 'djit', 'swin', 'stcpb', 'dtcpb', 'dwin',\n",
            "       'tcprtt', 'synack', 'ackdat', 'smean', 'dmean', 'trans_depth',\n",
            "       'response_body_len', 'ct_srv_src', 'ct_state_ttl', 'ct_dst_ltm',\n",
            "       'ct_src_dport_ltm', 'ct_dst_sport_ltm', 'ct_dst_src_ltm',\n",
            "       'is_ftp_login', 'ct_ftp_cmd', 'ct_flw_http_mthd', 'ct_src_ltm',\n",
            "       'ct_srv_dst', 'is_sm_ips_ports', 'label'],\n",
            "      dtype='object')\n"
          ],
          "name": "stdout"
        },
        {
          "output_type": "execute_result",
          "data": {
            "text/html": [
              "<div>\n",
              "<style scoped>\n",
              "    .dataframe tbody tr th:only-of-type {\n",
              "        vertical-align: middle;\n",
              "    }\n",
              "\n",
              "    .dataframe tbody tr th {\n",
              "        vertical-align: top;\n",
              "    }\n",
              "\n",
              "    .dataframe thead th {\n",
              "        text-align: right;\n",
              "    }\n",
              "</style>\n",
              "<table border=\"1\" class=\"dataframe\">\n",
              "  <thead>\n",
              "    <tr style=\"text-align: right;\">\n",
              "      <th></th>\n",
              "      <th>dur</th>\n",
              "      <th>proto</th>\n",
              "      <th>service</th>\n",
              "      <th>state</th>\n",
              "      <th>spkts</th>\n",
              "      <th>dpkts</th>\n",
              "      <th>sbytes</th>\n",
              "      <th>dbytes</th>\n",
              "      <th>rate</th>\n",
              "      <th>sttl</th>\n",
              "      <th>dttl</th>\n",
              "      <th>sload</th>\n",
              "      <th>dload</th>\n",
              "      <th>sloss</th>\n",
              "      <th>dloss</th>\n",
              "      <th>sinpkt</th>\n",
              "      <th>dinpkt</th>\n",
              "      <th>sjit</th>\n",
              "      <th>djit</th>\n",
              "      <th>swin</th>\n",
              "      <th>stcpb</th>\n",
              "      <th>dtcpb</th>\n",
              "      <th>dwin</th>\n",
              "      <th>tcprtt</th>\n",
              "      <th>synack</th>\n",
              "      <th>ackdat</th>\n",
              "      <th>smean</th>\n",
              "      <th>dmean</th>\n",
              "      <th>trans_depth</th>\n",
              "      <th>response_body_len</th>\n",
              "      <th>ct_srv_src</th>\n",
              "      <th>ct_state_ttl</th>\n",
              "      <th>ct_dst_ltm</th>\n",
              "      <th>ct_src_dport_ltm</th>\n",
              "      <th>ct_dst_sport_ltm</th>\n",
              "      <th>ct_dst_src_ltm</th>\n",
              "      <th>is_ftp_login</th>\n",
              "      <th>ct_ftp_cmd</th>\n",
              "      <th>ct_flw_http_mthd</th>\n",
              "      <th>ct_src_ltm</th>\n",
              "      <th>ct_srv_dst</th>\n",
              "      <th>is_sm_ips_ports</th>\n",
              "      <th>label</th>\n",
              "    </tr>\n",
              "  </thead>\n",
              "  <tbody>\n",
              "    <tr>\n",
              "      <th>0</th>\n",
              "      <td>0.121478</td>\n",
              "      <td>113</td>\n",
              "      <td>0</td>\n",
              "      <td>4</td>\n",
              "      <td>6</td>\n",
              "      <td>4</td>\n",
              "      <td>258</td>\n",
              "      <td>172</td>\n",
              "      <td>74.087490</td>\n",
              "      <td>252</td>\n",
              "      <td>254</td>\n",
              "      <td>14158.942380</td>\n",
              "      <td>8495.365234</td>\n",
              "      <td>0</td>\n",
              "      <td>0</td>\n",
              "      <td>24.295600</td>\n",
              "      <td>8.375000</td>\n",
              "      <td>30.177547</td>\n",
              "      <td>11.830604</td>\n",
              "      <td>255</td>\n",
              "      <td>621772692</td>\n",
              "      <td>2202533631</td>\n",
              "      <td>255</td>\n",
              "      <td>0.000000</td>\n",
              "      <td>0.000000</td>\n",
              "      <td>0.000000</td>\n",
              "      <td>43</td>\n",
              "      <td>43</td>\n",
              "      <td>0</td>\n",
              "      <td>0</td>\n",
              "      <td>1</td>\n",
              "      <td>0</td>\n",
              "      <td>1</td>\n",
              "      <td>1</td>\n",
              "      <td>1</td>\n",
              "      <td>1</td>\n",
              "      <td>0</td>\n",
              "      <td>0</td>\n",
              "      <td>0</td>\n",
              "      <td>1</td>\n",
              "      <td>1</td>\n",
              "      <td>0</td>\n",
              "      <td>0</td>\n",
              "    </tr>\n",
              "    <tr>\n",
              "      <th>1</th>\n",
              "      <td>0.649902</td>\n",
              "      <td>113</td>\n",
              "      <td>0</td>\n",
              "      <td>4</td>\n",
              "      <td>14</td>\n",
              "      <td>38</td>\n",
              "      <td>734</td>\n",
              "      <td>42014</td>\n",
              "      <td>78.473372</td>\n",
              "      <td>62</td>\n",
              "      <td>252</td>\n",
              "      <td>8395.112305</td>\n",
              "      <td>503571.312500</td>\n",
              "      <td>2</td>\n",
              "      <td>17</td>\n",
              "      <td>49.915000</td>\n",
              "      <td>15.432865</td>\n",
              "      <td>61.426934</td>\n",
              "      <td>1387.778330</td>\n",
              "      <td>255</td>\n",
              "      <td>1417884146</td>\n",
              "      <td>3077387971</td>\n",
              "      <td>255</td>\n",
              "      <td>0.000000</td>\n",
              "      <td>0.000000</td>\n",
              "      <td>0.000000</td>\n",
              "      <td>52</td>\n",
              "      <td>1106</td>\n",
              "      <td>0</td>\n",
              "      <td>0</td>\n",
              "      <td>43</td>\n",
              "      <td>1</td>\n",
              "      <td>1</td>\n",
              "      <td>1</td>\n",
              "      <td>1</td>\n",
              "      <td>2</td>\n",
              "      <td>0</td>\n",
              "      <td>0</td>\n",
              "      <td>0</td>\n",
              "      <td>1</td>\n",
              "      <td>6</td>\n",
              "      <td>0</td>\n",
              "      <td>0</td>\n",
              "    </tr>\n",
              "    <tr>\n",
              "      <th>2</th>\n",
              "      <td>1.623129</td>\n",
              "      <td>113</td>\n",
              "      <td>0</td>\n",
              "      <td>4</td>\n",
              "      <td>8</td>\n",
              "      <td>16</td>\n",
              "      <td>364</td>\n",
              "      <td>13186</td>\n",
              "      <td>14.170161</td>\n",
              "      <td>62</td>\n",
              "      <td>252</td>\n",
              "      <td>1572.271851</td>\n",
              "      <td>60929.230470</td>\n",
              "      <td>1</td>\n",
              "      <td>6</td>\n",
              "      <td>231.875571</td>\n",
              "      <td>102.737203</td>\n",
              "      <td>17179.586860</td>\n",
              "      <td>11420.926230</td>\n",
              "      <td>255</td>\n",
              "      <td>2116150707</td>\n",
              "      <td>2963114973</td>\n",
              "      <td>255</td>\n",
              "      <td>0.111897</td>\n",
              "      <td>0.061458</td>\n",
              "      <td>0.050439</td>\n",
              "      <td>46</td>\n",
              "      <td>824</td>\n",
              "      <td>0</td>\n",
              "      <td>0</td>\n",
              "      <td>7</td>\n",
              "      <td>1</td>\n",
              "      <td>2</td>\n",
              "      <td>1</td>\n",
              "      <td>1</td>\n",
              "      <td>3</td>\n",
              "      <td>0</td>\n",
              "      <td>0</td>\n",
              "      <td>0</td>\n",
              "      <td>2</td>\n",
              "      <td>6</td>\n",
              "      <td>0</td>\n",
              "      <td>0</td>\n",
              "    </tr>\n",
              "    <tr>\n",
              "      <th>3</th>\n",
              "      <td>1.681642</td>\n",
              "      <td>113</td>\n",
              "      <td>3</td>\n",
              "      <td>4</td>\n",
              "      <td>12</td>\n",
              "      <td>12</td>\n",
              "      <td>628</td>\n",
              "      <td>770</td>\n",
              "      <td>13.677108</td>\n",
              "      <td>62</td>\n",
              "      <td>252</td>\n",
              "      <td>2740.178955</td>\n",
              "      <td>3358.622070</td>\n",
              "      <td>1</td>\n",
              "      <td>3</td>\n",
              "      <td>152.876547</td>\n",
              "      <td>90.235726</td>\n",
              "      <td>259.080172</td>\n",
              "      <td>4991.784669</td>\n",
              "      <td>255</td>\n",
              "      <td>1107119177</td>\n",
              "      <td>1047442890</td>\n",
              "      <td>255</td>\n",
              "      <td>0.000000</td>\n",
              "      <td>0.000000</td>\n",
              "      <td>0.000000</td>\n",
              "      <td>52</td>\n",
              "      <td>64</td>\n",
              "      <td>0</td>\n",
              "      <td>0</td>\n",
              "      <td>1</td>\n",
              "      <td>1</td>\n",
              "      <td>2</td>\n",
              "      <td>1</td>\n",
              "      <td>1</td>\n",
              "      <td>3</td>\n",
              "      <td>1</td>\n",
              "      <td>1</td>\n",
              "      <td>0</td>\n",
              "      <td>2</td>\n",
              "      <td>1</td>\n",
              "      <td>0</td>\n",
              "      <td>0</td>\n",
              "    </tr>\n",
              "    <tr>\n",
              "      <th>4</th>\n",
              "      <td>0.449454</td>\n",
              "      <td>113</td>\n",
              "      <td>0</td>\n",
              "      <td>4</td>\n",
              "      <td>10</td>\n",
              "      <td>6</td>\n",
              "      <td>534</td>\n",
              "      <td>268</td>\n",
              "      <td>33.373826</td>\n",
              "      <td>254</td>\n",
              "      <td>252</td>\n",
              "      <td>8561.499023</td>\n",
              "      <td>3987.059814</td>\n",
              "      <td>2</td>\n",
              "      <td>1</td>\n",
              "      <td>47.750333</td>\n",
              "      <td>75.659602</td>\n",
              "      <td>2415.837634</td>\n",
              "      <td>115.807000</td>\n",
              "      <td>255</td>\n",
              "      <td>2436137549</td>\n",
              "      <td>1977154190</td>\n",
              "      <td>255</td>\n",
              "      <td>0.128381</td>\n",
              "      <td>0.071147</td>\n",
              "      <td>0.057234</td>\n",
              "      <td>53</td>\n",
              "      <td>45</td>\n",
              "      <td>0</td>\n",
              "      <td>0</td>\n",
              "      <td>43</td>\n",
              "      <td>1</td>\n",
              "      <td>2</td>\n",
              "      <td>2</td>\n",
              "      <td>1</td>\n",
              "      <td>40</td>\n",
              "      <td>0</td>\n",
              "      <td>0</td>\n",
              "      <td>0</td>\n",
              "      <td>2</td>\n",
              "      <td>39</td>\n",
              "      <td>0</td>\n",
              "      <td>0</td>\n",
              "    </tr>\n",
              "  </tbody>\n",
              "</table>\n",
              "</div>"
            ],
            "text/plain": [
              "        dur  proto  service  ...  ct_srv_dst  is_sm_ips_ports  label\n",
              "0  0.121478    113        0  ...           1                0      0\n",
              "1  0.649902    113        0  ...           6                0      0\n",
              "2  1.623129    113        0  ...           6                0      0\n",
              "3  1.681642    113        3  ...           1                0      0\n",
              "4  0.449454    113        0  ...          39                0      0\n",
              "\n",
              "[5 rows x 43 columns]"
            ]
          },
          "metadata": {
            "tags": []
          },
          "execution_count": 44
        }
      ]
    },
    {
      "cell_type": "code",
      "metadata": {
        "execution": {
          "iopub.status.busy": "2021-07-08T19:48:15.398865Z",
          "iopub.execute_input": "2021-07-08T19:48:15.400066Z",
          "iopub.status.idle": "2021-07-08T19:48:15.526147Z",
          "shell.execute_reply.started": "2021-07-08T19:48:15.399974Z",
          "shell.execute_reply": "2021-07-08T19:48:15.525142Z"
        },
        "trusted": true,
        "id": "imXxRv43cBD5"
      },
      "source": [
        "y=df[\"label\"]\n",
        "df.drop([\"label\"], inplace=True, axis=1)"
      ],
      "execution_count": 45,
      "outputs": []
    },
    {
      "cell_type": "code",
      "metadata": {
        "execution": {
          "iopub.status.busy": "2021-07-08T19:50:55.765615Z",
          "iopub.execute_input": "2021-07-08T19:50:55.766189Z",
          "iopub.status.idle": "2021-07-08T19:51:58.777870Z",
          "shell.execute_reply.started": "2021-07-08T19:50:55.766138Z",
          "shell.execute_reply": "2021-07-08T19:51:58.776349Z"
        },
        "trusted": true,
        "colab": {
          "base_uri": "https://localhost:8080/",
          "height": 1000
        },
        "id": "vaWqvZTtcBD5",
        "outputId": "6e8cb115-6b7a-4dce-b4aa-c206b1eed532"
      },
      "source": [
        "from sklearn.ensemble import ExtraTreesClassifier\n",
        "import matplotlib.pyplot as plt\n",
        "model = ExtraTreesClassifier()\n",
        "model.fit(df,y)\n",
        "print(model.feature_importances_) \n",
        "\n",
        "feat_importances = pd.Series(model.feature_importances_, index=df.columns)\n",
        "feat_importances.nlargest(40).plot(kind='bar',stacked=True,figsize=(10,6))\n",
        "print(feat_importances.nlargest(40))\n",
        "x=feat_importances.nlargest(40)\n",
        "plt.show()"
      ],
      "execution_count": 46,
      "outputs": [
        {
          "output_type": "stream",
          "text": [
            "[0.01137849 0.00710454 0.02325002 0.03365009 0.00487893 0.0052656\n",
            " 0.0231559  0.00777405 0.0360432  0.19287469 0.09798354 0.01745457\n",
            " 0.03444207 0.00536745 0.00589759 0.0172095  0.00746824 0.00776411\n",
            " 0.0075054  0.04783134 0.01421828 0.01327605 0.02837101 0.0120777\n",
            " 0.01402584 0.01327816 0.0303578  0.02029361 0.00335403 0.00171975\n",
            " 0.02595833 0.07571785 0.01378829 0.01820316 0.0245267  0.03256017\n",
            " 0.00034218 0.00044119 0.00373498 0.01417239 0.03588706 0.00939617]\n",
            "sttl                 0.192875\n",
            "dttl                 0.097984\n",
            "ct_state_ttl         0.075718\n",
            "swin                 0.047831\n",
            "rate                 0.036043\n",
            "ct_srv_dst           0.035887\n",
            "dload                0.034442\n",
            "state                0.033650\n",
            "ct_dst_src_ltm       0.032560\n",
            "smean                0.030358\n",
            "dwin                 0.028371\n",
            "ct_srv_src           0.025958\n",
            "ct_dst_sport_ltm     0.024527\n",
            "service              0.023250\n",
            "sbytes               0.023156\n",
            "dmean                0.020294\n",
            "ct_src_dport_ltm     0.018203\n",
            "sload                0.017455\n",
            "sinpkt               0.017210\n",
            "stcpb                0.014218\n",
            "ct_src_ltm           0.014172\n",
            "synack               0.014026\n",
            "ct_dst_ltm           0.013788\n",
            "ackdat               0.013278\n",
            "dtcpb                0.013276\n",
            "tcprtt               0.012078\n",
            "dur                  0.011378\n",
            "is_sm_ips_ports      0.009396\n",
            "dbytes               0.007774\n",
            "sjit                 0.007764\n",
            "djit                 0.007505\n",
            "dinpkt               0.007468\n",
            "proto                0.007105\n",
            "dloss                0.005898\n",
            "sloss                0.005367\n",
            "dpkts                0.005266\n",
            "spkts                0.004879\n",
            "ct_flw_http_mthd     0.003735\n",
            "trans_depth          0.003354\n",
            "response_body_len    0.001720\n",
            "dtype: float64\n"
          ],
          "name": "stdout"
        },
        {
          "output_type": "display_data",
          "data": {
            "image/png": "[encoded data removed]",
            "text/plain": [
              "<Figure size 720x432 with 1 Axes>"
            ]
          },
          "metadata": {
            "tags": [],
            "needs_background": "light"
          }
        }
      ]
    },
    {
      "cell_type": "code",
      "metadata": {
        "execution": {
          "iopub.status.busy": "2021-07-08T19:52:20.813503Z",
          "iopub.execute_input": "2021-07-08T19:52:20.813897Z",
          "iopub.status.idle": "2021-07-08T19:52:20.822276Z",
          "shell.execute_reply.started": "2021-07-08T19:52:20.813862Z",
          "shell.execute_reply": "2021-07-08T19:52:20.820661Z"
        },
        "trusted": true,
        "id": "nzqmu1vbcBD6",
        "colab": {
          "base_uri": "https://localhost:8080/"
        },
        "outputId": "952cde29-9373-4cea-c4da-c85892336844"
      },
      "source": [
        "l=[]\n",
        "for i in range(38):\n",
        "    l.append(x.index[i])\n",
        "print(l)"
      ],
      "execution_count": 47,
      "outputs": [
        {
          "output_type": "stream",
          "text": [
            "['sttl', 'dttl', 'ct_state_ttl', 'swin', 'rate', 'ct_srv_dst', 'dload', 'state', 'ct_dst_src_ltm', 'smean', 'dwin', 'ct_srv_src', 'ct_dst_sport_ltm', 'service', 'sbytes', 'dmean', 'ct_src_dport_ltm', 'sload', 'sinpkt', 'stcpb', 'ct_src_ltm', 'synack', 'ct_dst_ltm', 'ackdat', 'dtcpb', 'tcprtt', 'dur', 'is_sm_ips_ports', 'dbytes', 'sjit', 'djit', 'dinpkt', 'proto', 'dloss', 'sloss', 'dpkts', 'spkts', 'ct_flw_http_mthd']\n"
          ],
          "name": "stdout"
        }
      ]
    },
    {
      "cell_type": "code",
      "metadata": {
        "execution": {
          "iopub.status.busy": "2021-07-08T19:52:24.377421Z",
          "iopub.execute_input": "2021-07-08T19:52:24.377763Z",
          "iopub.status.idle": "2021-07-08T19:52:24.492341Z",
          "shell.execute_reply.started": "2021-07-08T19:52:24.377734Z",
          "shell.execute_reply": "2021-07-08T19:52:24.491259Z"
        },
        "trusted": true,
        "id": "FYi0X7NhcBD6"
      },
      "source": [
        "\n",
        "for i in df.columns:\n",
        "    if i not in l:\n",
        "        df.drop(i, inplace=True, axis=1)"
      ],
      "execution_count": 48,
      "outputs": []
    },
    {
      "cell_type": "code",
      "metadata": {
        "execution": {
          "iopub.status.busy": "2021-07-08T19:52:26.569108Z",
          "iopub.execute_input": "2021-07-08T19:52:26.569462Z",
          "iopub.status.idle": "2021-07-08T19:52:26.648109Z",
          "shell.execute_reply.started": "2021-07-08T19:52:26.569431Z",
          "shell.execute_reply": "2021-07-08T19:52:26.647108Z"
        },
        "trusted": true,
        "id": "SzpX6Jk6cBD6",
        "colab": {
          "base_uri": "https://localhost:8080/",
          "height": 437
        },
        "outputId": "f4dcc62d-3ff7-42cc-bd8f-ee546a771176"
      },
      "source": [
        "df"
      ],
      "execution_count": 49,
      "outputs": [
        {
          "output_type": "execute_result",
          "data": {
            "text/html": [
              "<div>\n",
              "<style scoped>\n",
              "    .dataframe tbody tr th:only-of-type {\n",
              "        vertical-align: middle;\n",
              "    }\n",
              "\n",
              "    .dataframe tbody tr th {\n",
              "        vertical-align: top;\n",
              "    }\n",
              "\n",
              "    .dataframe thead th {\n",
              "        text-align: right;\n",
              "    }\n",
              "</style>\n",
              "<table border=\"1\" class=\"dataframe\">\n",
              "  <thead>\n",
              "    <tr style=\"text-align: right;\">\n",
              "      <th></th>\n",
              "      <th>dur</th>\n",
              "      <th>proto</th>\n",
              "      <th>service</th>\n",
              "      <th>state</th>\n",
              "      <th>spkts</th>\n",
              "      <th>dpkts</th>\n",
              "      <th>sbytes</th>\n",
              "      <th>dbytes</th>\n",
              "      <th>rate</th>\n",
              "      <th>sttl</th>\n",
              "      <th>dttl</th>\n",
              "      <th>sload</th>\n",
              "      <th>dload</th>\n",
              "      <th>sloss</th>\n",
              "      <th>dloss</th>\n",
              "      <th>sinpkt</th>\n",
              "      <th>dinpkt</th>\n",
              "      <th>sjit</th>\n",
              "      <th>djit</th>\n",
              "      <th>swin</th>\n",
              "      <th>stcpb</th>\n",
              "      <th>dtcpb</th>\n",
              "      <th>dwin</th>\n",
              "      <th>tcprtt</th>\n",
              "      <th>synack</th>\n",
              "      <th>ackdat</th>\n",
              "      <th>smean</th>\n",
              "      <th>dmean</th>\n",
              "      <th>ct_srv_src</th>\n",
              "      <th>ct_state_ttl</th>\n",
              "      <th>ct_dst_ltm</th>\n",
              "      <th>ct_src_dport_ltm</th>\n",
              "      <th>ct_dst_sport_ltm</th>\n",
              "      <th>ct_dst_src_ltm</th>\n",
              "      <th>ct_flw_http_mthd</th>\n",
              "      <th>ct_src_ltm</th>\n",
              "      <th>ct_srv_dst</th>\n",
              "      <th>is_sm_ips_ports</th>\n",
              "    </tr>\n",
              "  </thead>\n",
              "  <tbody>\n",
              "    <tr>\n",
              "      <th>0</th>\n",
              "      <td>0.121478</td>\n",
              "      <td>113</td>\n",
              "      <td>0</td>\n",
              "      <td>4</td>\n",
              "      <td>6</td>\n",
              "      <td>4</td>\n",
              "      <td>258</td>\n",
              "      <td>172</td>\n",
              "      <td>74.087490</td>\n",
              "      <td>252</td>\n",
              "      <td>254</td>\n",
              "      <td>1.415894e+04</td>\n",
              "      <td>8495.365234</td>\n",
              "      <td>0</td>\n",
              "      <td>0</td>\n",
              "      <td>24.295600</td>\n",
              "      <td>8.375000</td>\n",
              "      <td>30.177547</td>\n",
              "      <td>11.830604</td>\n",
              "      <td>255</td>\n",
              "      <td>621772692</td>\n",
              "      <td>2202533631</td>\n",
              "      <td>255</td>\n",
              "      <td>0.000000</td>\n",
              "      <td>0.000000</td>\n",
              "      <td>0.000000</td>\n",
              "      <td>43</td>\n",
              "      <td>43</td>\n",
              "      <td>1</td>\n",
              "      <td>0</td>\n",
              "      <td>1</td>\n",
              "      <td>1</td>\n",
              "      <td>1</td>\n",
              "      <td>1</td>\n",
              "      <td>0</td>\n",
              "      <td>1</td>\n",
              "      <td>1</td>\n",
              "      <td>0</td>\n",
              "    </tr>\n",
              "    <tr>\n",
              "      <th>1</th>\n",
              "      <td>0.649902</td>\n",
              "      <td>113</td>\n",
              "      <td>0</td>\n",
              "      <td>4</td>\n",
              "      <td>14</td>\n",
              "      <td>38</td>\n",
              "      <td>734</td>\n",
              "      <td>42014</td>\n",
              "      <td>78.473372</td>\n",
              "      <td>62</td>\n",
              "      <td>252</td>\n",
              "      <td>8.395112e+03</td>\n",
              "      <td>503571.312500</td>\n",
              "      <td>2</td>\n",
              "      <td>17</td>\n",
              "      <td>49.915000</td>\n",
              "      <td>15.432865</td>\n",
              "      <td>61.426934</td>\n",
              "      <td>1387.778330</td>\n",
              "      <td>255</td>\n",
              "      <td>1417884146</td>\n",
              "      <td>3077387971</td>\n",
              "      <td>255</td>\n",
              "      <td>0.000000</td>\n",
              "      <td>0.000000</td>\n",
              "      <td>0.000000</td>\n",
              "      <td>52</td>\n",
              "      <td>1106</td>\n",
              "      <td>43</td>\n",
              "      <td>1</td>\n",
              "      <td>1</td>\n",
              "      <td>1</td>\n",
              "      <td>1</td>\n",
              "      <td>2</td>\n",
              "      <td>0</td>\n",
              "      <td>1</td>\n",
              "      <td>6</td>\n",
              "      <td>0</td>\n",
              "    </tr>\n",
              "    <tr>\n",
              "      <th>2</th>\n",
              "      <td>1.623129</td>\n",
              "      <td>113</td>\n",
              "      <td>0</td>\n",
              "      <td>4</td>\n",
              "      <td>8</td>\n",
              "      <td>16</td>\n",
              "      <td>364</td>\n",
              "      <td>13186</td>\n",
              "      <td>14.170161</td>\n",
              "      <td>62</td>\n",
              "      <td>252</td>\n",
              "      <td>1.572272e+03</td>\n",
              "      <td>60929.230470</td>\n",
              "      <td>1</td>\n",
              "      <td>6</td>\n",
              "      <td>231.875571</td>\n",
              "      <td>102.737203</td>\n",
              "      <td>17179.586860</td>\n",
              "      <td>11420.926230</td>\n",
              "      <td>255</td>\n",
              "      <td>2116150707</td>\n",
              "      <td>2963114973</td>\n",
              "      <td>255</td>\n",
              "      <td>0.111897</td>\n",
              "      <td>0.061458</td>\n",
              "      <td>0.050439</td>\n",
              "      <td>46</td>\n",
              "      <td>824</td>\n",
              "      <td>7</td>\n",
              "      <td>1</td>\n",
              "      <td>2</td>\n",
              "      <td>1</td>\n",
              "      <td>1</td>\n",
              "      <td>3</td>\n",
              "      <td>0</td>\n",
              "      <td>2</td>\n",
              "      <td>6</td>\n",
              "      <td>0</td>\n",
              "    </tr>\n",
              "    <tr>\n",
              "      <th>3</th>\n",
              "      <td>1.681642</td>\n",
              "      <td>113</td>\n",
              "      <td>3</td>\n",
              "      <td>4</td>\n",
              "      <td>12</td>\n",
              "      <td>12</td>\n",
              "      <td>628</td>\n",
              "      <td>770</td>\n",
              "      <td>13.677108</td>\n",
              "      <td>62</td>\n",
              "      <td>252</td>\n",
              "      <td>2.740179e+03</td>\n",
              "      <td>3358.622070</td>\n",
              "      <td>1</td>\n",
              "      <td>3</td>\n",
              "      <td>152.876547</td>\n",
              "      <td>90.235726</td>\n",
              "      <td>259.080172</td>\n",
              "      <td>4991.784669</td>\n",
              "      <td>255</td>\n",
              "      <td>1107119177</td>\n",
              "      <td>1047442890</td>\n",
              "      <td>255</td>\n",
              "      <td>0.000000</td>\n",
              "      <td>0.000000</td>\n",
              "      <td>0.000000</td>\n",
              "      <td>52</td>\n",
              "      <td>64</td>\n",
              "      <td>1</td>\n",
              "      <td>1</td>\n",
              "      <td>2</td>\n",
              "      <td>1</td>\n",
              "      <td>1</td>\n",
              "      <td>3</td>\n",
              "      <td>0</td>\n",
              "      <td>2</td>\n",
              "      <td>1</td>\n",
              "      <td>0</td>\n",
              "    </tr>\n",
              "    <tr>\n",
              "      <th>4</th>\n",
              "      <td>0.449454</td>\n",
              "      <td>113</td>\n",
              "      <td>0</td>\n",
              "      <td>4</td>\n",
              "      <td>10</td>\n",
              "      <td>6</td>\n",
              "      <td>534</td>\n",
              "      <td>268</td>\n",
              "      <td>33.373826</td>\n",
              "      <td>254</td>\n",
              "      <td>252</td>\n",
              "      <td>8.561499e+03</td>\n",
              "      <td>3987.059814</td>\n",
              "      <td>2</td>\n",
              "      <td>1</td>\n",
              "      <td>47.750333</td>\n",
              "      <td>75.659602</td>\n",
              "      <td>2415.837634</td>\n",
              "      <td>115.807000</td>\n",
              "      <td>255</td>\n",
              "      <td>2436137549</td>\n",
              "      <td>1977154190</td>\n",
              "      <td>255</td>\n",
              "      <td>0.128381</td>\n",
              "      <td>0.071147</td>\n",
              "      <td>0.057234</td>\n",
              "      <td>53</td>\n",
              "      <td>45</td>\n",
              "      <td>43</td>\n",
              "      <td>1</td>\n",
              "      <td>2</td>\n",
              "      <td>2</td>\n",
              "      <td>1</td>\n",
              "      <td>40</td>\n",
              "      <td>0</td>\n",
              "      <td>2</td>\n",
              "      <td>39</td>\n",
              "      <td>0</td>\n",
              "    </tr>\n",
              "    <tr>\n",
              "      <th>...</th>\n",
              "      <td>...</td>\n",
              "      <td>...</td>\n",
              "      <td>...</td>\n",
              "      <td>...</td>\n",
              "      <td>...</td>\n",
              "      <td>...</td>\n",
              "      <td>...</td>\n",
              "      <td>...</td>\n",
              "      <td>...</td>\n",
              "      <td>...</td>\n",
              "      <td>...</td>\n",
              "      <td>...</td>\n",
              "      <td>...</td>\n",
              "      <td>...</td>\n",
              "      <td>...</td>\n",
              "      <td>...</td>\n",
              "      <td>...</td>\n",
              "      <td>...</td>\n",
              "      <td>...</td>\n",
              "      <td>...</td>\n",
              "      <td>...</td>\n",
              "      <td>...</td>\n",
              "      <td>...</td>\n",
              "      <td>...</td>\n",
              "      <td>...</td>\n",
              "      <td>...</td>\n",
              "      <td>...</td>\n",
              "      <td>...</td>\n",
              "      <td>...</td>\n",
              "      <td>...</td>\n",
              "      <td>...</td>\n",
              "      <td>...</td>\n",
              "      <td>...</td>\n",
              "      <td>...</td>\n",
              "      <td>...</td>\n",
              "      <td>...</td>\n",
              "      <td>...</td>\n",
              "      <td>...</td>\n",
              "    </tr>\n",
              "    <tr>\n",
              "      <th>257668</th>\n",
              "      <td>0.000005</td>\n",
              "      <td>119</td>\n",
              "      <td>0</td>\n",
              "      <td>5</td>\n",
              "      <td>2</td>\n",
              "      <td>0</td>\n",
              "      <td>104</td>\n",
              "      <td>0</td>\n",
              "      <td>200000.005100</td>\n",
              "      <td>254</td>\n",
              "      <td>0</td>\n",
              "      <td>8.320000e+07</td>\n",
              "      <td>0.000000</td>\n",
              "      <td>0</td>\n",
              "      <td>0</td>\n",
              "      <td>0.005000</td>\n",
              "      <td>0.000000</td>\n",
              "      <td>0.000000</td>\n",
              "      <td>0.000000</td>\n",
              "      <td>0</td>\n",
              "      <td>0</td>\n",
              "      <td>0</td>\n",
              "      <td>0</td>\n",
              "      <td>0.000000</td>\n",
              "      <td>0.000000</td>\n",
              "      <td>0.000000</td>\n",
              "      <td>52</td>\n",
              "      <td>0</td>\n",
              "      <td>1</td>\n",
              "      <td>2</td>\n",
              "      <td>2</td>\n",
              "      <td>1</td>\n",
              "      <td>1</td>\n",
              "      <td>2</td>\n",
              "      <td>0</td>\n",
              "      <td>2</td>\n",
              "      <td>1</td>\n",
              "      <td>0</td>\n",
              "    </tr>\n",
              "    <tr>\n",
              "      <th>257669</th>\n",
              "      <td>1.106101</td>\n",
              "      <td>113</td>\n",
              "      <td>0</td>\n",
              "      <td>4</td>\n",
              "      <td>20</td>\n",
              "      <td>8</td>\n",
              "      <td>18062</td>\n",
              "      <td>354</td>\n",
              "      <td>24.410067</td>\n",
              "      <td>254</td>\n",
              "      <td>252</td>\n",
              "      <td>1.241044e+05</td>\n",
              "      <td>2242.109863</td>\n",
              "      <td>7</td>\n",
              "      <td>1</td>\n",
              "      <td>55.880051</td>\n",
              "      <td>143.700000</td>\n",
              "      <td>4798.130981</td>\n",
              "      <td>190.980813</td>\n",
              "      <td>255</td>\n",
              "      <td>1072535109</td>\n",
              "      <td>3284291478</td>\n",
              "      <td>255</td>\n",
              "      <td>0.173208</td>\n",
              "      <td>0.100191</td>\n",
              "      <td>0.073017</td>\n",
              "      <td>903</td>\n",
              "      <td>44</td>\n",
              "      <td>1</td>\n",
              "      <td>1</td>\n",
              "      <td>2</td>\n",
              "      <td>1</td>\n",
              "      <td>1</td>\n",
              "      <td>1</td>\n",
              "      <td>0</td>\n",
              "      <td>3</td>\n",
              "      <td>2</td>\n",
              "      <td>0</td>\n",
              "    </tr>\n",
              "    <tr>\n",
              "      <th>257670</th>\n",
              "      <td>0.000000</td>\n",
              "      <td>6</td>\n",
              "      <td>0</td>\n",
              "      <td>5</td>\n",
              "      <td>1</td>\n",
              "      <td>0</td>\n",
              "      <td>46</td>\n",
              "      <td>0</td>\n",
              "      <td>0.000000</td>\n",
              "      <td>0</td>\n",
              "      <td>0</td>\n",
              "      <td>0.000000e+00</td>\n",
              "      <td>0.000000</td>\n",
              "      <td>0</td>\n",
              "      <td>0</td>\n",
              "      <td>60000.720000</td>\n",
              "      <td>0.000000</td>\n",
              "      <td>0.000000</td>\n",
              "      <td>0.000000</td>\n",
              "      <td>0</td>\n",
              "      <td>0</td>\n",
              "      <td>0</td>\n",
              "      <td>0</td>\n",
              "      <td>0.000000</td>\n",
              "      <td>0.000000</td>\n",
              "      <td>0.000000</td>\n",
              "      <td>46</td>\n",
              "      <td>0</td>\n",
              "      <td>1</td>\n",
              "      <td>2</td>\n",
              "      <td>1</td>\n",
              "      <td>1</td>\n",
              "      <td>1</td>\n",
              "      <td>1</td>\n",
              "      <td>0</td>\n",
              "      <td>1</td>\n",
              "      <td>1</td>\n",
              "      <td>1</td>\n",
              "    </tr>\n",
              "    <tr>\n",
              "      <th>257671</th>\n",
              "      <td>0.000000</td>\n",
              "      <td>6</td>\n",
              "      <td>0</td>\n",
              "      <td>5</td>\n",
              "      <td>1</td>\n",
              "      <td>0</td>\n",
              "      <td>46</td>\n",
              "      <td>0</td>\n",
              "      <td>0.000000</td>\n",
              "      <td>0</td>\n",
              "      <td>0</td>\n",
              "      <td>0.000000e+00</td>\n",
              "      <td>0.000000</td>\n",
              "      <td>0</td>\n",
              "      <td>0</td>\n",
              "      <td>60000.732000</td>\n",
              "      <td>0.000000</td>\n",
              "      <td>10.954518</td>\n",
              "      <td>0.000000</td>\n",
              "      <td>0</td>\n",
              "      <td>0</td>\n",
              "      <td>0</td>\n",
              "      <td>0</td>\n",
              "      <td>0.000000</td>\n",
              "      <td>0.000000</td>\n",
              "      <td>0.000000</td>\n",
              "      <td>46</td>\n",
              "      <td>0</td>\n",
              "      <td>1</td>\n",
              "      <td>2</td>\n",
              "      <td>1</td>\n",
              "      <td>1</td>\n",
              "      <td>1</td>\n",
              "      <td>1</td>\n",
              "      <td>0</td>\n",
              "      <td>1</td>\n",
              "      <td>1</td>\n",
              "      <td>1</td>\n",
              "    </tr>\n",
              "    <tr>\n",
              "      <th>257672</th>\n",
              "      <td>0.000009</td>\n",
              "      <td>119</td>\n",
              "      <td>0</td>\n",
              "      <td>5</td>\n",
              "      <td>2</td>\n",
              "      <td>0</td>\n",
              "      <td>104</td>\n",
              "      <td>0</td>\n",
              "      <td>111111.107200</td>\n",
              "      <td>254</td>\n",
              "      <td>0</td>\n",
              "      <td>4.622222e+07</td>\n",
              "      <td>0.000000</td>\n",
              "      <td>0</td>\n",
              "      <td>0</td>\n",
              "      <td>0.009000</td>\n",
              "      <td>0.000000</td>\n",
              "      <td>0.000000</td>\n",
              "      <td>0.000000</td>\n",
              "      <td>0</td>\n",
              "      <td>0</td>\n",
              "      <td>0</td>\n",
              "      <td>0</td>\n",
              "      <td>0.000000</td>\n",
              "      <td>0.000000</td>\n",
              "      <td>0.000000</td>\n",
              "      <td>52</td>\n",
              "      <td>0</td>\n",
              "      <td>1</td>\n",
              "      <td>2</td>\n",
              "      <td>1</td>\n",
              "      <td>1</td>\n",
              "      <td>1</td>\n",
              "      <td>1</td>\n",
              "      <td>0</td>\n",
              "      <td>1</td>\n",
              "      <td>1</td>\n",
              "      <td>0</td>\n",
              "    </tr>\n",
              "  </tbody>\n",
              "</table>\n",
              "<p>257673 rows × 38 columns</p>\n",
              "</div>"
            ],
            "text/plain": [
              "             dur  proto  service  ...  ct_src_ltm  ct_srv_dst  is_sm_ips_ports\n",
              "0       0.121478    113        0  ...           1           1                0\n",
              "1       0.649902    113        0  ...           1           6                0\n",
              "2       1.623129    113        0  ...           2           6                0\n",
              "3       1.681642    113        3  ...           2           1                0\n",
              "4       0.449454    113        0  ...           2          39                0\n",
              "...          ...    ...      ...  ...         ...         ...              ...\n",
              "257668  0.000005    119        0  ...           2           1                0\n",
              "257669  1.106101    113        0  ...           3           2                0\n",
              "257670  0.000000      6        0  ...           1           1                1\n",
              "257671  0.000000      6        0  ...           1           1                1\n",
              "257672  0.000009    119        0  ...           1           1                0\n",
              "\n",
              "[257673 rows x 38 columns]"
            ]
          },
          "metadata": {
            "tags": []
          },
          "execution_count": 49
        }
      ]
    },
    {
      "cell_type": "code",
      "metadata": {
        "execution": {
          "iopub.status.busy": "2021-07-08T19:52:29.774258Z",
          "iopub.execute_input": "2021-07-08T19:52:29.774659Z",
          "iopub.status.idle": "2021-07-08T20:25:49.695118Z",
          "shell.execute_reply.started": "2021-07-08T19:52:29.774624Z",
          "shell.execute_reply": "2021-07-08T20:25:49.694072Z"
        },
        "trusted": true,
        "id": "qoZ_05yYcBD6",
        "colab": {
          "base_uri": "https://localhost:8080/"
        },
        "outputId": "47b1be56-a32a-4f55-d12a-e53d57c43276"
      },
      "source": [
        "from imblearn.combine import SMOTETomek\n",
        "\n",
        "smt = SMOTETomek(sampling_strategy='auto')\n",
        "df, y = smt.fit_resample(df, y)\n"
      ],
      "execution_count": 50,
      "outputs": [
        {
          "output_type": "stream",
          "text": [
            "/usr/local/lib/python3.7/dist-packages/sklearn/externals/six.py:31: FutureWarning: The module is deprecated in version 0.21 and will be removed in version 0.23 since we've dropped support for Python 2.7. Please rely on the official version of six (https://pypi.org/project/six/).\n",
            "  \"(https://pypi.org/project/six/).\", FutureWarning)\n",
            "/usr/local/lib/python3.7/dist-packages/sklearn/utils/deprecation.py:144: FutureWarning: The sklearn.neighbors.base module is  deprecated in version 0.22 and will be removed in version 0.24. The corresponding classes / functions should instead be imported from sklearn.neighbors. Anything that cannot be imported from sklearn.neighbors is now part of the private API.\n",
            "  warnings.warn(message, FutureWarning)\n",
            "/usr/local/lib/python3.7/dist-packages/sklearn/utils/deprecation.py:87: FutureWarning: Function safe_indexing is deprecated; safe_indexing is deprecated in version 0.22 and will be removed in version 0.24.\n",
            "  warnings.warn(msg, category=FutureWarning)\n",
            "/usr/local/lib/python3.7/dist-packages/sklearn/utils/deprecation.py:87: FutureWarning: Function safe_indexing is deprecated; safe_indexing is deprecated in version 0.22 and will be removed in version 0.24.\n",
            "  warnings.warn(msg, category=FutureWarning)\n"
          ],
          "name": "stderr"
        }
      ]
    },
    {
      "cell_type": "code",
      "metadata": {
        "id": "NT5fsS9eNqY5",
        "colab": {
          "base_uri": "https://localhost:8080/"
        },
        "outputId": "a8130505-8059-44b5-e0b8-02946e097dd7"
      },
      "source": [
        "import collections\n",
        "collections.Counter(y)"
      ],
      "execution_count": 51,
      "outputs": [
        {
          "output_type": "execute_result",
          "data": {
            "text/plain": [
              "Counter({0: 155499, 1: 155499})"
            ]
          },
          "metadata": {
            "tags": []
          },
          "execution_count": 51
        }
      ]
    },
    {
      "cell_type": "code",
      "metadata": {
        "execution": {
          "iopub.status.busy": "2021-07-08T20:54:08.066421Z",
          "iopub.execute_input": "2021-07-08T20:54:08.066816Z",
          "iopub.status.idle": "2021-07-08T20:54:08.236753Z",
          "shell.execute_reply.started": "2021-07-08T20:54:08.066776Z",
          "shell.execute_reply": "2021-07-08T20:54:08.235645Z"
        },
        "trusted": true,
        "id": "ZuAm1Y2mcBD7"
      },
      "source": [
        "from sklearn.model_selection import train_test_split\n",
        "X_train, X_test, y_train, y_test = train_test_split(df, y, test_size= 0.28)"
      ],
      "execution_count": 71,
      "outputs": []
    },
    {
      "cell_type": "code",
      "metadata": {
        "execution": {
          "iopub.status.busy": "2021-07-08T20:54:09.974995Z",
          "iopub.execute_input": "2021-07-08T20:54:09.975434Z",
          "iopub.status.idle": "2021-07-08T20:54:10.130288Z",
          "shell.execute_reply.started": "2021-07-08T20:54:09.975401Z",
          "shell.execute_reply": "2021-07-08T20:54:10.129095Z"
        },
        "trusted": true,
        "id": "wjRZt9_XcBD7"
      },
      "source": [
        "from sklearn.preprocessing import LabelEncoder, StandardScaler, MinMaxScaler\n",
        "scaler = MinMaxScaler()\n",
        "X_train = scaler.fit_transform(X_train)\n",
        "\n",
        "X_test = scaler.transform(X_test)"
      ],
      "execution_count": 72,
      "outputs": []
    },
    {
      "cell_type": "code",
      "metadata": {
        "execution": {
          "iopub.status.busy": "2021-07-08T20:54:14.121294Z",
          "iopub.execute_input": "2021-07-08T20:54:14.121701Z",
          "iopub.status.idle": "2021-07-08T20:54:14.128157Z",
          "shell.execute_reply.started": "2021-07-08T20:54:14.121661Z",
          "shell.execute_reply": "2021-07-08T20:54:14.127040Z"
        },
        "trusted": true,
        "id": "6mUbMNvEcBD7",
        "colab": {
          "base_uri": "https://localhost:8080/"
        },
        "outputId": "f8732429-a1e3-4fca-8e0c-5d52c57bed41"
      },
      "source": [
        "print(X_train.shape)\n",
        "print(X_test.shape)"
      ],
      "execution_count": 73,
      "outputs": [
        {
          "output_type": "stream",
          "text": [
            "(223918, 38)\n",
            "(87080, 38)\n"
          ],
          "name": "stdout"
        }
      ]
    },
    {
      "cell_type": "code",
      "metadata": {
        "execution": {
          "iopub.status.busy": "2021-07-08T22:29:24.155254Z",
          "iopub.execute_input": "2021-07-08T22:29:24.155944Z",
          "iopub.status.idle": "2021-07-08T22:33:11.261672Z",
          "shell.execute_reply.started": "2021-07-08T22:29:24.155906Z",
          "shell.execute_reply": "2021-07-08T22:33:11.260574Z"
        },
        "trusted": true,
        "id": "91l_iBShcBD7",
        "colab": {
          "base_uri": "https://localhost:8080/"
        },
        "outputId": "caa5b46f-bf81-4011-a430-df102dc27dc2"
      },
      "source": [
        "from sklearn.ensemble import RandomForestClassifier\n",
        "clf=(RandomForestClassifier(n_estimators= 140,criterion='entropy',max_features=20))\n",
        "\n",
        "clf.fit(X_train,y_train)\n",
        "y_pred=clf.predict(X_test)\n",
        "from sklearn import metrics\n",
        "acc= metrics.accuracy_score(y_test, y_pred)\n",
        "print(acc)"
      ],
      "execution_count": 74,
      "outputs": [
        {
          "output_type": "stream",
          "text": [
            "0.9666283876894809\n"
          ],
          "name": "stdout"
        }
      ]
    },
    {
      "cell_type": "code",
      "metadata": {
        "execution": {
          "iopub.status.busy": "2021-07-08T22:37:21.688388Z",
          "iopub.execute_input": "2021-07-08T22:37:21.688755Z",
          "iopub.status.idle": "2021-07-08T22:37:21.916553Z",
          "shell.execute_reply.started": "2021-07-08T22:37:21.688719Z",
          "shell.execute_reply": "2021-07-08T22:37:21.915503Z"
        },
        "trusted": true,
        "id": "o11jVstqcBD7",
        "colab": {
          "base_uri": "https://localhost:8080/"
        },
        "outputId": "04402920-537e-4248-b27e-b448008d84a2"
      },
      "source": [
        "import joblib\n",
        "joblib.dump(clf, \"randomforest.joblib\")"
      ],
      "execution_count": 75,
      "outputs": [
        {
          "output_type": "execute_result",
          "data": {
            "text/plain": [
              "['randomforest.joblib']"
            ]
          },
          "metadata": {
            "tags": []
          },
          "execution_count": 75
        }
      ]
    },
    {
      "cell_type": "code",
      "metadata": {
        "execution": {
          "iopub.status.busy": "2021-07-08T22:37:37.553428Z",
          "iopub.execute_input": "2021-07-08T22:37:37.553890Z",
          "iopub.status.idle": "2021-07-08T22:37:37.759544Z",
          "shell.execute_reply.started": "2021-07-08T22:37:37.553833Z",
          "shell.execute_reply": "2021-07-08T22:37:37.758085Z"
        },
        "trusted": true,
        "id": "Hg8jjU3tcBD8",
        "colab": {
          "base_uri": "https://localhost:8080/"
        },
        "outputId": "a6b34aae-1495-4f6f-8587-7ceb3f9bbe5d"
      },
      "source": [
        "from sklearn.metrics import accuracy_score\n",
        "from sklearn.metrics import precision_score\n",
        "from sklearn.metrics import recall_score\n",
        "from sklearn.metrics import f1_score\n",
        "from sklearn.metrics import log_loss\n",
        "from sklearn.metrics import roc_auc_score\n",
        "\n",
        "print('Accuracy: ',accuracy_score(y_test, y_pred))\n",
        "print('Precision: ',precision_score(y_test, y_pred))\n",
        "print('Recall: ',recall_score(y_test, y_pred))\n",
        "print('F1 score: ',f1_score(y_test, y_pred))\n",
        "print('Log loss: ',log_loss(y_test, y_pred))\n",
        "print('ROC AUC: ',roc_auc_score(y_test, y_pred))"
      ],
      "execution_count": 76,
      "outputs": [
        {
          "output_type": "stream",
          "text": [
            "Accuracy:  0.9666283876894809\n",
            "Precision:  0.9735596994155302\n",
            "Recall:  0.9596269032051575\n",
            "F1 score:  0.966543093324737\n",
            "Log loss:  1.1526251233886187\n",
            "ROC AUC:  0.9666610218642429\n"
          ],
          "name": "stdout"
        }
      ]
    },
    {
      "cell_type": "code",
      "metadata": {
        "execution": {
          "iopub.status.busy": "2021-07-08T22:37:46.545532Z",
          "iopub.execute_input": "2021-07-08T22:37:46.545913Z",
          "iopub.status.idle": "2021-07-08T22:37:46.733667Z",
          "shell.execute_reply.started": "2021-07-08T22:37:46.545874Z",
          "shell.execute_reply": "2021-07-08T22:37:46.732636Z"
        },
        "trusted": true,
        "id": "REHFQQtNcBD8"
      },
      "source": [
        "rf_accuracy=\"%.3f\" % round(accuracy_score(y_test, y_pred),3)\n",
        "rf_prec=\"%.3f\" % round(precision_score(y_test, y_pred),3)\n",
        "rf_rec=\"%.3f\" % round(recall_score(y_test, y_pred),3)\n",
        "rf_f1=\"%.3f\" % round(f1_score(y_test, y_pred),3)\n",
        "rf_lgloss=\"%.3f\" %round(log_loss(y_test, y_pred),3)\n",
        "rf_rocauc=\"%.3f\" % round(roc_auc_score(y_test, y_pred),3)\n"
      ],
      "execution_count": 77,
      "outputs": []
    },
    {
      "cell_type": "code",
      "metadata": {
        "execution": {
          "iopub.status.busy": "2021-07-08T22:37:48.523440Z",
          "iopub.execute_input": "2021-07-08T22:37:48.523806Z",
          "iopub.status.idle": "2021-07-08T22:37:48.936790Z",
          "shell.execute_reply.started": "2021-07-08T22:37:48.523770Z",
          "shell.execute_reply": "2021-07-08T22:37:48.935916Z"
        },
        "trusted": true,
        "id": "sKEf8XNwcBD8",
        "colab": {
          "base_uri": "https://localhost:8080/",
          "height": 313
        },
        "outputId": "556ec722-ad8c-4256-fce4-81f53e3b9d6a"
      },
      "source": [
        "from sklearn.metrics import confusion_matrix,accuracy_score,classification_report\n",
        "cf_matrix = confusion_matrix(y_test, y_pred)\n",
        "import seaborn as sns\n",
        "plt.figure(figsize=(6,4))\n",
        "heatmap = sns.heatmap(cf_matrix, annot=True, fmt='d', color='blue',cmap=\"YlGnBu\")\n",
        "plt.xlabel('Predicted class')\n",
        "plt.ylabel('True class')\n",
        "plt.title('Confusion matrix of model')"
      ],
      "execution_count": 78,
      "outputs": [
        {
          "output_type": "execute_result",
          "data": {
            "text/plain": [
              "Text(0.5, 1.0, 'Confusion matrix of model')"
            ]
          },
          "metadata": {
            "tags": []
          },
          "execution_count": 78
        },
        {
          "output_type": "display_data",
          "data": {
            "image/png": "[encoded data removed]",
            "text/plain": [
              "<Figure size 432x288 with 2 Axes>"
            ]
          },
          "metadata": {
            "tags": [],
            "needs_background": "light"
          }
        }
      ]
    },
    {
      "cell_type": "code",
      "metadata": {
        "execution": {
          "iopub.status.busy": "2021-07-08T22:37:54.023152Z",
          "iopub.execute_input": "2021-07-08T22:37:54.023732Z",
          "iopub.status.idle": "2021-07-08T22:37:54.214990Z",
          "shell.execute_reply.started": "2021-07-08T22:37:54.023682Z",
          "shell.execute_reply": "2021-07-08T22:37:54.214139Z"
        },
        "trusted": true,
        "id": "MCh9sJYGcBD8",
        "colab": {
          "base_uri": "https://localhost:8080/"
        },
        "outputId": "c222cf4c-9bfb-47fb-b1da-1055455b5630"
      },
      "source": [
        "print(classification_report(y_test, y_pred))"
      ],
      "execution_count": 79,
      "outputs": [
        {
          "output_type": "stream",
          "text": [
            "              precision    recall  f1-score   support\n",
            "\n",
            "           0       0.96      0.97      0.97     43338\n",
            "           1       0.97      0.96      0.97     43742\n",
            "\n",
            "    accuracy                           0.97     87080\n",
            "   macro avg       0.97      0.97      0.97     87080\n",
            "weighted avg       0.97      0.97      0.97     87080\n",
            "\n"
          ],
          "name": "stdout"
        }
      ]
    },
    {
      "cell_type": "code",
      "metadata": {
        "id": "dTm4i47lFn6r"
      },
      "source": [
        "from sklearn.metrics import roc_curve,auc\n",
        "from sklearn.metrics import (precision_score, recall_score,f1_score)\n",
        "from sklearn.metrics import average_precision_score,precision_recall_curve\n",
        "fpr_rf, tpr_rf, thresholds_rf = roc_curve(y_test, y_pred)\n",
        "roc_auc_rf = auc(fpr_rf, tpr_rf)\n",
        "precision_rf, recall_rf, th_rf = precision_recall_curve(y_test, y_pred)\n"
      ],
      "execution_count": 80,
      "outputs": []
    },
    {
      "cell_type": "code",
      "metadata": {
        "execution": {
          "iopub.status.busy": "2021-07-08T22:38:09.991610Z",
          "iopub.execute_input": "2021-07-08T22:38:09.992292Z",
          "iopub.status.idle": "2021-07-08T22:38:16.817435Z",
          "shell.execute_reply.started": "2021-07-08T22:38:09.992233Z",
          "shell.execute_reply": "2021-07-08T22:38:16.816029Z"
        },
        "trusted": true,
        "id": "mUsjO12KcBD8"
      },
      "source": [
        "log = LogisticRegression(solver = \"liblinear\")\n",
        "y_pred_log_fit = log.fit(X_train, y_train)\n",
        "y_pred_log = y_pred_log_fit.predict(X_test)\n",
        "log_accuracy = accuracy_score(y_test, y_pred_log)"
      ],
      "execution_count": 81,
      "outputs": []
    },
    {
      "cell_type": "code",
      "metadata": {
        "execution": {
          "iopub.status.busy": "2021-07-08T22:38:16.823760Z",
          "iopub.execute_input": "2021-07-08T22:38:16.828032Z",
          "iopub.status.idle": "2021-07-08T22:38:17.127808Z",
          "shell.execute_reply.started": "2021-07-08T22:38:16.827957Z",
          "shell.execute_reply": "2021-07-08T22:38:17.126951Z"
        },
        "trusted": true,
        "id": "blM5y6LYcBD9"
      },
      "source": [
        "log_acc = \"%.3f\" %round(accuracy_score(y_test, y_pred_log),3)\n",
        "log_prec=\"%.3f\" %round(precision_score(y_test, y_pred_log),3)\n",
        "log_rec=\"%.3f\" %round(recall_score(y_test, y_pred_log),3)\n",
        "log_f1=\"%.3f\" %round(f1_score(y_test, y_pred_log),3)\n",
        "log_lgloss=\"%.3f\" %round(log_loss(y_test, y_pred_log),3)\n",
        "log_rocauc=\"%.3f\" %round(roc_auc_score(y_test, y_pred_log),3)"
      ],
      "execution_count": 82,
      "outputs": []
    },
    {
      "cell_type": "code",
      "metadata": {
        "execution": {
          "iopub.status.busy": "2021-07-08T22:38:17.129894Z",
          "iopub.execute_input": "2021-07-08T22:38:17.130416Z",
          "iopub.status.idle": "2021-07-08T22:38:17.595223Z",
          "shell.execute_reply.started": "2021-07-08T22:38:17.130371Z",
          "shell.execute_reply": "2021-07-08T22:38:17.594166Z"
        },
        "trusted": true,
        "id": "nx0vz_arcBD9",
        "colab": {
          "base_uri": "https://localhost:8080/",
          "height": 313
        },
        "outputId": "f8eeb56c-95bc-4ada-ae7f-889e5d6ccd77"
      },
      "source": [
        "cf_matrix = confusion_matrix(y_test, y_pred_log)\n",
        "import seaborn as sns\n",
        "plt.figure(figsize=(6,4))\n",
        "heatmap = sns.heatmap(cf_matrix, annot=True, fmt='d', color='blue',cmap=\"YlGnBu\")\n",
        "plt.xlabel('Predicted class')\n",
        "plt.ylabel('True class')\n",
        "plt.title('Confusion matrix of model')"
      ],
      "execution_count": 83,
      "outputs": [
        {
          "output_type": "execute_result",
          "data": {
            "text/plain": [
              "Text(0.5, 1.0, 'Confusion matrix of model')"
            ]
          },
          "metadata": {
            "tags": []
          },
          "execution_count": 83
        },
        {
          "output_type": "display_data",
          "data": {
            "image/png": "[encoded data removed]",
            "text/plain": [
              "<Figure size 432x288 with 2 Axes>"
            ]
          },
          "metadata": {
            "tags": [],
            "needs_background": "light"
          }
        }
      ]
    },
    {
      "cell_type": "code",
      "metadata": {
        "execution": {
          "iopub.status.busy": "2021-07-08T22:38:21.115307Z",
          "iopub.execute_input": "2021-07-08T22:38:21.115841Z",
          "iopub.status.idle": "2021-07-08T22:38:21.327427Z",
          "shell.execute_reply.started": "2021-07-08T22:38:21.115797Z",
          "shell.execute_reply": "2021-07-08T22:38:21.325926Z"
        },
        "trusted": true,
        "id": "sFDWVJM6cBD9",
        "colab": {
          "base_uri": "https://localhost:8080/"
        },
        "outputId": "f05990c6-f66d-458a-b6d6-3af680bc6d2b"
      },
      "source": [
        "print('Accuracy: ',accuracy_score(y_test, y_pred_log))\n",
        "print('Precision: ',precision_score(y_test, y_pred_log))\n",
        "print('Recall: ',recall_score(y_test, y_pred_log))\n",
        "print('F1 score: ',f1_score(y_test, y_pred_log))\n",
        "print('Log loss: ',log_loss(y_test, y_pred_log))\n",
        "print('ROC AUC: ',roc_auc_score(y_test, y_pred_log))"
      ],
      "execution_count": 84,
      "outputs": [
        {
          "output_type": "stream",
          "text": [
            "Accuracy:  0.896612310519063\n",
            "Precision:  0.8817556429811644\n",
            "Recall:  0.9171734259978968\n",
            "F1 score:  0.8991158772313174\n",
            "Log loss:  3.5709336899122115\n",
            "ROC AUC:  0.8965164744092581\n"
          ],
          "name": "stdout"
        }
      ]
    },
    {
      "cell_type": "code",
      "metadata": {
        "execution": {
          "iopub.status.busy": "2021-07-08T22:38:24.271415Z",
          "iopub.execute_input": "2021-07-08T22:38:24.271770Z",
          "iopub.status.idle": "2021-07-08T22:38:24.459327Z",
          "shell.execute_reply.started": "2021-07-08T22:38:24.271739Z",
          "shell.execute_reply": "2021-07-08T22:38:24.458316Z"
        },
        "trusted": true,
        "id": "0eMWTIlzcBD9",
        "colab": {
          "base_uri": "https://localhost:8080/"
        },
        "outputId": "ec528cc3-51f7-45bf-bb0a-40e74bedef3b"
      },
      "source": [
        "print(classification_report(y_test, y_pred_log))"
      ],
      "execution_count": 85,
      "outputs": [
        {
          "output_type": "stream",
          "text": [
            "              precision    recall  f1-score   support\n",
            "\n",
            "           0       0.91      0.88      0.89     43338\n",
            "           1       0.88      0.92      0.90     43742\n",
            "\n",
            "    accuracy                           0.90     87080\n",
            "   macro avg       0.90      0.90      0.90     87080\n",
            "weighted avg       0.90      0.90      0.90     87080\n",
            "\n"
          ],
          "name": "stdout"
        }
      ]
    },
    {
      "cell_type": "code",
      "metadata": {
        "id": "LOWmjPQuHKc3"
      },
      "source": [
        "fpr_log, tpr_log, thresholds_log = roc_curve(y_test, y_pred_log)\n",
        "roc_auc_log = auc(fpr_log, tpr_log)\n",
        "precision_log, recall_log, th_log = precision_recall_curve(y_test, y_pred_log)"
      ],
      "execution_count": 86,
      "outputs": []
    },
    {
      "cell_type": "code",
      "metadata": {
        "execution": {
          "iopub.status.busy": "2021-07-08T22:39:52.618395Z",
          "iopub.execute_input": "2021-07-08T22:39:52.618750Z",
          "iopub.status.idle": "2021-07-08T22:39:59.692127Z",
          "shell.execute_reply.started": "2021-07-08T22:39:52.618719Z",
          "shell.execute_reply": "2021-07-08T22:39:59.690629Z"
        },
        "trusted": true,
        "id": "VVs1ZfdPcBD9"
      },
      "source": [
        "from keras.models import Sequential\n",
        "from keras.layers import Dense, Dropout, Conv2D, MaxPool2D\n",
        "from tensorflow.keras.layers import LSTM\n",
        "model=Sequential()\n",
        "\n",
        "model.add(Dense( units = 120, activation='relu', kernel_initializer='uniform'))\n",
        "\n",
        "model.add(Dense(units = 200, activation='relu', kernel_initializer='uniform'))\n",
        "model.add(Dense(units = 100, activation='relu', kernel_initializer='uniform'))\n",
        "\n",
        "model.add(Dense(units = 1, activation='sigmoid', kernel_initializer='uniform'))"
      ],
      "execution_count": 68,
      "outputs": []
    },
    {
      "cell_type": "code",
      "metadata": {
        "execution": {
          "iopub.status.busy": "2021-07-08T22:40:06.223440Z",
          "iopub.execute_input": "2021-07-08T22:40:06.223926Z",
          "iopub.status.idle": "2021-07-08T22:40:06.251457Z",
          "shell.execute_reply.started": "2021-07-08T22:40:06.223895Z",
          "shell.execute_reply": "2021-07-08T22:40:06.250074Z"
        },
        "trusted": true,
        "id": "r1FprRbvcBD9"
      },
      "source": [
        "model.compile(optimizer = 'adam', loss = 'mean_squared_error', metrics=['accuracy'])"
      ],
      "execution_count": 69,
      "outputs": []
    },
    {
      "cell_type": "code",
      "metadata": {
        "execution": {
          "iopub.status.busy": "2021-07-08T22:40:35.150941Z",
          "iopub.execute_input": "2021-07-08T22:40:35.151484Z",
          "iopub.status.idle": "2021-07-08T22:46:18.159907Z",
          "shell.execute_reply.started": "2021-07-08T22:40:35.151438Z",
          "shell.execute_reply": "2021-07-08T22:46:18.158604Z"
        },
        "trusted": true,
        "id": "xBkW3R4JcBD-",
        "colab": {
          "base_uri": "https://localhost:8080/"
        },
        "outputId": "875a5af7-d04f-4e4d-f489-2ad6596f5787"
      },
      "source": [
        "model.fit(X_train, y_train, batch_size = 32,epochs=100)"
      ],
      "execution_count": 138,
      "outputs": [
        {
          "output_type": "stream",
          "text": [
            "Epoch 1/100\n",
            "6998/6998 [==============================] - 16s 2ms/step - loss: 0.0424 - accuracy: 0.9395\n",
            "Epoch 2/100\n",
            "6998/6998 [==============================] - 16s 2ms/step - loss: 0.0416 - accuracy: 0.9410\n",
            "Epoch 3/100\n",
            "6998/6998 [==============================] - 15s 2ms/step - loss: 0.0408 - accuracy: 0.9420\n",
            "Epoch 4/100\n",
            "6998/6998 [==============================] - 15s 2ms/step - loss: 0.0402 - accuracy: 0.9432\n",
            "Epoch 5/100\n",
            "6998/6998 [==============================] - 15s 2ms/step - loss: 0.0397 - accuracy: 0.9440\n",
            "Epoch 6/100\n",
            "6998/6998 [==============================] - 16s 2ms/step - loss: 0.0392 - accuracy: 0.9448\n",
            "Epoch 7/100\n",
            "6998/6998 [==============================] - 15s 2ms/step - loss: 0.0390 - accuracy: 0.9450\n",
            "Epoch 8/100\n",
            "6998/6998 [==============================] - 15s 2ms/step - loss: 0.0388 - accuracy: 0.9451\n",
            "Epoch 9/100\n",
            "6998/6998 [==============================] - 15s 2ms/step - loss: 0.0385 - accuracy: 0.9461\n",
            "Epoch 10/100\n",
            "6998/6998 [==============================] - 16s 2ms/step - loss: 0.0382 - accuracy: 0.9464\n",
            "Epoch 11/100\n",
            "6998/6998 [==============================] - 15s 2ms/step - loss: 0.0373 - accuracy: 0.9471\n",
            "Epoch 12/100\n",
            "6998/6998 [==============================] - 16s 2ms/step - loss: 0.0368 - accuracy: 0.9477\n",
            "Epoch 13/100\n",
            "6998/6998 [==============================] - 16s 2ms/step - loss: 0.0367 - accuracy: 0.9482\n",
            "Epoch 14/100\n",
            "6998/6998 [==============================] - 15s 2ms/step - loss: 0.0366 - accuracy: 0.9480\n",
            "Epoch 15/100\n",
            "6998/6998 [==============================] - 15s 2ms/step - loss: 0.0363 - accuracy: 0.9488\n",
            "Epoch 16/100\n",
            "6998/6998 [==============================] - 16s 2ms/step - loss: 0.0363 - accuracy: 0.9485\n",
            "Epoch 17/100\n",
            "6998/6998 [==============================] - 16s 2ms/step - loss: 0.0361 - accuracy: 0.9487\n",
            "Epoch 18/100\n",
            "6998/6998 [==============================] - 15s 2ms/step - loss: 0.0360 - accuracy: 0.9492\n",
            "Epoch 19/100\n",
            "6998/6998 [==============================] - 15s 2ms/step - loss: 0.0359 - accuracy: 0.9491\n",
            "Epoch 20/100\n",
            "6998/6998 [==============================] - 15s 2ms/step - loss: 0.0357 - accuracy: 0.9496\n",
            "Epoch 21/100\n",
            "6998/6998 [==============================] - 16s 2ms/step - loss: 0.0357 - accuracy: 0.9495\n",
            "Epoch 22/100\n",
            "6998/6998 [==============================] - 15s 2ms/step - loss: 0.0355 - accuracy: 0.9497\n",
            "Epoch 23/100\n",
            "6998/6998 [==============================] - 15s 2ms/step - loss: 0.0354 - accuracy: 0.9498\n",
            "Epoch 24/100\n",
            "6998/6998 [==============================] - 15s 2ms/step - loss: 0.0352 - accuracy: 0.9502\n",
            "Epoch 25/100\n",
            "6998/6998 [==============================] - 16s 2ms/step - loss: 0.0353 - accuracy: 0.9500\n",
            "Epoch 26/100\n",
            "6998/6998 [==============================] - 16s 2ms/step - loss: 0.0352 - accuracy: 0.9497\n",
            "Epoch 27/100\n",
            "6998/6998 [==============================] - 15s 2ms/step - loss: 0.0351 - accuracy: 0.9504\n",
            "Epoch 28/100\n",
            "6998/6998 [==============================] - 15s 2ms/step - loss: 0.0349 - accuracy: 0.9510\n",
            "Epoch 29/100\n",
            "6998/6998 [==============================] - 16s 2ms/step - loss: 0.0348 - accuracy: 0.9505\n",
            "Epoch 30/100\n",
            "6998/6998 [==============================] - 16s 2ms/step - loss: 0.0348 - accuracy: 0.9508\n",
            "Epoch 31/100\n",
            "6998/6998 [==============================] - 15s 2ms/step - loss: 0.0346 - accuracy: 0.9508\n",
            "Epoch 32/100\n",
            "6998/6998 [==============================] - 16s 2ms/step - loss: 0.0345 - accuracy: 0.9510\n",
            "Epoch 33/100\n",
            "6998/6998 [==============================] - 15s 2ms/step - loss: 0.0344 - accuracy: 0.9514\n",
            "Epoch 34/100\n",
            "6998/6998 [==============================] - 15s 2ms/step - loss: 0.0343 - accuracy: 0.9515\n",
            "Epoch 35/100\n",
            "6998/6998 [==============================] - 15s 2ms/step - loss: 0.0343 - accuracy: 0.9512\n",
            "Epoch 36/100\n",
            "6998/6998 [==============================] - 16s 2ms/step - loss: 0.0342 - accuracy: 0.9513\n",
            "Epoch 37/100\n",
            "6998/6998 [==============================] - 15s 2ms/step - loss: 0.0341 - accuracy: 0.9517\n",
            "Epoch 38/100\n",
            "6998/6998 [==============================] - 15s 2ms/step - loss: 0.0339 - accuracy: 0.9521\n",
            "Epoch 39/100\n",
            "6998/6998 [==============================] - 15s 2ms/step - loss: 0.0340 - accuracy: 0.9520\n",
            "Epoch 40/100\n",
            "6998/6998 [==============================] - 16s 2ms/step - loss: 0.0338 - accuracy: 0.9520\n",
            "Epoch 41/100\n",
            "6998/6998 [==============================] - 16s 2ms/step - loss: 0.0338 - accuracy: 0.9524\n",
            "Epoch 42/100\n",
            "6998/6998 [==============================] - 15s 2ms/step - loss: 0.0337 - accuracy: 0.9522\n",
            "Epoch 43/100\n",
            "6998/6998 [==============================] - 15s 2ms/step - loss: 0.0336 - accuracy: 0.9522\n",
            "Epoch 44/100\n",
            "6998/6998 [==============================] - 16s 2ms/step - loss: 0.0335 - accuracy: 0.9526\n",
            "Epoch 45/100\n",
            "6998/6998 [==============================] - 16s 2ms/step - loss: 0.0333 - accuracy: 0.9526\n",
            "Epoch 46/100\n",
            "6998/6998 [==============================] - 15s 2ms/step - loss: 0.0334 - accuracy: 0.9527\n",
            "Epoch 47/100\n",
            "6998/6998 [==============================] - 15s 2ms/step - loss: 0.0332 - accuracy: 0.9529\n",
            "Epoch 48/100\n",
            "6998/6998 [==============================] - 16s 2ms/step - loss: 0.0333 - accuracy: 0.9529\n",
            "Epoch 49/100\n",
            "6998/6998 [==============================] - 16s 2ms/step - loss: 0.0332 - accuracy: 0.9527\n",
            "Epoch 50/100\n",
            "6998/6998 [==============================] - 16s 2ms/step - loss: 0.0330 - accuracy: 0.9531\n",
            "Epoch 51/100\n",
            "6998/6998 [==============================] - 16s 2ms/step - loss: 0.0330 - accuracy: 0.9533\n",
            "Epoch 52/100\n",
            "6998/6998 [==============================] - 16s 2ms/step - loss: 0.0331 - accuracy: 0.9536\n",
            "Epoch 53/100\n",
            "6998/6998 [==============================] - 15s 2ms/step - loss: 0.0328 - accuracy: 0.9537\n",
            "Epoch 54/100\n",
            "6998/6998 [==============================] - 15s 2ms/step - loss: 0.0327 - accuracy: 0.9537\n",
            "Epoch 55/100\n",
            "6998/6998 [==============================] - 16s 2ms/step - loss: 0.0329 - accuracy: 0.9535\n",
            "Epoch 56/100\n",
            "6998/6998 [==============================] - 16s 2ms/step - loss: 0.0327 - accuracy: 0.9538\n",
            "Epoch 57/100\n",
            "6998/6998 [==============================] - 15s 2ms/step - loss: 0.0326 - accuracy: 0.9539\n",
            "Epoch 58/100\n",
            "6998/6998 [==============================] - 15s 2ms/step - loss: 0.0326 - accuracy: 0.9540\n",
            "Epoch 59/100\n",
            "6998/6998 [==============================] - 16s 2ms/step - loss: 0.0328 - accuracy: 0.9539\n",
            "Epoch 60/100\n",
            "6998/6998 [==============================] - 16s 2ms/step - loss: 0.0325 - accuracy: 0.9541\n",
            "Epoch 61/100\n",
            "6998/6998 [==============================] - 15s 2ms/step - loss: 0.0323 - accuracy: 0.9541\n",
            "Epoch 62/100\n",
            "6998/6998 [==============================] - 15s 2ms/step - loss: 0.0324 - accuracy: 0.9541\n",
            "Epoch 63/100\n",
            "6998/6998 [==============================] - 16s 2ms/step - loss: 0.0323 - accuracy: 0.9544\n",
            "Epoch 64/100\n",
            "6998/6998 [==============================] - 16s 2ms/step - loss: 0.0322 - accuracy: 0.9545\n",
            "Epoch 65/100\n",
            "6998/6998 [==============================] - 15s 2ms/step - loss: 0.0322 - accuracy: 0.9545\n",
            "Epoch 66/100\n",
            "6998/6998 [==============================] - 15s 2ms/step - loss: 0.0320 - accuracy: 0.9547\n",
            "Epoch 67/100\n",
            "6998/6998 [==============================] - 16s 2ms/step - loss: 0.0320 - accuracy: 0.9547\n",
            "Epoch 68/100\n",
            "6998/6998 [==============================] - 16s 2ms/step - loss: 0.0319 - accuracy: 0.9551\n",
            "Epoch 69/100\n",
            "6998/6998 [==============================] - 15s 2ms/step - loss: 0.0319 - accuracy: 0.9551\n",
            "Epoch 70/100\n",
            "6998/6998 [==============================] - 15s 2ms/step - loss: 0.0318 - accuracy: 0.9552\n",
            "Epoch 71/100\n",
            "6998/6998 [==============================] - 15s 2ms/step - loss: 0.0318 - accuracy: 0.9551\n",
            "Epoch 72/100\n",
            "6998/6998 [==============================] - 16s 2ms/step - loss: 0.0317 - accuracy: 0.9553\n",
            "Epoch 73/100\n",
            "6998/6998 [==============================] - 16s 2ms/step - loss: 0.0316 - accuracy: 0.9556\n",
            "Epoch 74/100\n",
            "6998/6998 [==============================] - 16s 2ms/step - loss: 0.0315 - accuracy: 0.9559\n",
            "Epoch 75/100\n",
            "6998/6998 [==============================] - 16s 2ms/step - loss: 0.0315 - accuracy: 0.9555\n",
            "Epoch 76/100\n",
            "6998/6998 [==============================] - 15s 2ms/step - loss: 0.0314 - accuracy: 0.9559\n",
            "Epoch 77/100\n",
            "6998/6998 [==============================] - 15s 2ms/step - loss: 0.0314 - accuracy: 0.9559\n",
            "Epoch 78/100\n",
            "6998/6998 [==============================] - 16s 2ms/step - loss: 0.0314 - accuracy: 0.9558\n",
            "Epoch 79/100\n",
            "6998/6998 [==============================] - 16s 2ms/step - loss: 0.0314 - accuracy: 0.9557\n",
            "Epoch 80/100\n",
            "6998/6998 [==============================] - 15s 2ms/step - loss: 0.0311 - accuracy: 0.9560\n",
            "Epoch 81/100\n",
            "6998/6998 [==============================] - 15s 2ms/step - loss: 0.0313 - accuracy: 0.9561\n",
            "Epoch 82/100\n",
            "6998/6998 [==============================] - 16s 2ms/step - loss: 0.0312 - accuracy: 0.9561\n",
            "Epoch 83/100\n",
            "6998/6998 [==============================] - 16s 2ms/step - loss: 0.0311 - accuracy: 0.9561\n",
            "Epoch 84/100\n",
            "6998/6998 [==============================] - 15s 2ms/step - loss: 0.0309 - accuracy: 0.9566\n",
            "Epoch 85/100\n",
            "6998/6998 [==============================] - 15s 2ms/step - loss: 0.0309 - accuracy: 0.9565\n",
            "Epoch 86/100\n",
            "6998/6998 [==============================] - 16s 2ms/step - loss: 0.0308 - accuracy: 0.9568\n",
            "Epoch 87/100\n",
            "6998/6998 [==============================] - 16s 2ms/step - loss: 0.0307 - accuracy: 0.9571\n",
            "Epoch 88/100\n",
            "6998/6998 [==============================] - 15s 2ms/step - loss: 0.0309 - accuracy: 0.9568\n",
            "Epoch 89/100\n",
            "6998/6998 [==============================] - 15s 2ms/step - loss: 0.0308 - accuracy: 0.9566\n",
            "Epoch 90/100\n",
            "6998/6998 [==============================] - 16s 2ms/step - loss: 0.0307 - accuracy: 0.9569\n",
            "Epoch 91/100\n",
            "6998/6998 [==============================] - 16s 2ms/step - loss: 0.0306 - accuracy: 0.9570\n",
            "Epoch 92/100\n",
            "6998/6998 [==============================] - 16s 2ms/step - loss: 0.0306 - accuracy: 0.9569\n",
            "Epoch 93/100\n",
            "6998/6998 [==============================] - 17s 2ms/step - loss: 0.0306 - accuracy: 0.9571\n",
            "Epoch 94/100\n",
            "6998/6998 [==============================] - 16s 2ms/step - loss: 0.0305 - accuracy: 0.9571\n",
            "Epoch 95/100\n",
            "6998/6998 [==============================] - 15s 2ms/step - loss: 0.0304 - accuracy: 0.9573\n",
            "Epoch 96/100\n",
            "6998/6998 [==============================] - 15s 2ms/step - loss: 0.0302 - accuracy: 0.9575\n",
            "Epoch 97/100\n",
            "6998/6998 [==============================] - 16s 2ms/step - loss: 0.0303 - accuracy: 0.9577\n",
            "Epoch 98/100\n",
            "6998/6998 [==============================] - 16s 2ms/step - loss: 0.0303 - accuracy: 0.9577\n",
            "Epoch 99/100\n",
            "6998/6998 [==============================] - 15s 2ms/step - loss: 0.0303 - accuracy: 0.9576\n",
            "Epoch 100/100\n",
            "6998/6998 [==============================] - 15s 2ms/step - loss: 0.0301 - accuracy: 0.9578\n"
          ],
          "name": "stdout"
        },
        {
          "output_type": "execute_result",
          "data": {
            "text/plain": [
              "<keras.callbacks.History at 0x7f682acbc210>"
            ]
          },
          "metadata": {
            "tags": []
          },
          "execution_count": 138
        }
      ]
    },
    {
      "cell_type": "code",
      "metadata": {
        "execution": {
          "iopub.status.busy": "2021-07-08T22:46:20.661546Z",
          "iopub.execute_input": "2021-07-08T22:46:20.661907Z",
          "iopub.status.idle": "2021-07-08T22:46:25.253606Z",
          "shell.execute_reply.started": "2021-07-08T22:46:20.661870Z",
          "shell.execute_reply": "2021-07-08T22:46:25.252134Z"
        },
        "trusted": true,
        "id": "y8OmIVuycBD-",
        "colab": {
          "base_uri": "https://localhost:8080/"
        },
        "outputId": "dc0bdab3-e973-4f26-da47-30e9fb7ac135"
      },
      "source": [
        "acc=model.evaluate(X_test,y_test)\n",
        "print('Accuracy',acc[1])\n",
        "y_pred_ann=model.predict(X_test)"
      ],
      "execution_count": 139,
      "outputs": [
        {
          "output_type": "stream",
          "text": [
            "2722/2722 [==============================] - 5s 2ms/step - loss: 0.0329 - accuracy: 0.9543\n",
            "Accuracy 0.9543178677558899\n"
          ],
          "name": "stdout"
        }
      ]
    },
    {
      "cell_type": "code",
      "metadata": {
        "execution": {
          "iopub.status.busy": "2021-07-08T22:46:27.453761Z",
          "iopub.execute_input": "2021-07-08T22:46:27.454229Z",
          "iopub.status.idle": "2021-07-08T22:46:29.196408Z",
          "shell.execute_reply.started": "2021-07-08T22:46:27.454190Z",
          "shell.execute_reply": "2021-07-08T22:46:29.195289Z"
        },
        "trusted": true,
        "id": "Dfp0dHbPcBD-",
        "colab": {
          "base_uri": "https://localhost:8080/"
        },
        "outputId": "3232ca3c-a3e4-42c7-c333-6af76e3cd731"
      },
      "source": [
        "y_classes = model.predict_classes(X_test, verbose=0)"
      ],
      "execution_count": 140,
      "outputs": [
        {
          "output_type": "stream",
          "text": [
            "/usr/local/lib/python3.7/dist-packages/keras/engine/sequential.py:450: UserWarning: `model.predict_classes()` is deprecated and will be removed after 2021-01-01. Please use instead:* `np.argmax(model.predict(x), axis=-1)`,   if your model does multi-class classification   (e.g. if it uses a `softmax` last-layer activation).* `(model.predict(x) > 0.5).astype(\"int32\")`,   if your model does binary classification   (e.g. if it uses a `sigmoid` last-layer activation).\n",
            "  warnings.warn('`model.predict_classes()` is deprecated and '\n"
          ],
          "name": "stderr"
        }
      ]
    },
    {
      "cell_type": "code",
      "metadata": {
        "id": "G5pURvlzRoB5"
      },
      "source": [
        "ann_acc =\"%.3f\" % round(accuracy_score(y_test, y_classes),3)\n",
        "ann_prec = \"%.3f\" % round(precision_score(y_test, y_classes))\n",
        "ann_rec = \"%.3f\" % round(recall_score(y_test, y_classes),3)\n",
        "ann_f1 = \"%.3f\" % round(f1_score(y_test, y_classes),3)\n",
        "ann_lgloss = \"%.3f\" % round(log_loss(y_test, y_classes),3)\n",
        "ann_rocauc = \"%.3f\" % round(roc_auc_score(y_test, y_classes),3)"
      ],
      "execution_count": 141,
      "outputs": []
    },
    {
      "cell_type": "code",
      "metadata": {
        "id": "E4xWZXgyRt-i",
        "colab": {
          "base_uri": "https://localhost:8080/",
          "height": 313
        },
        "outputId": "5a721a03-5919-4d9c-821b-f2d6bddfb175"
      },
      "source": [
        "cf_matrix = confusion_matrix(y_test, y_classes)\n",
        "import seaborn as sns\n",
        "plt.figure(figsize=(6,4))\n",
        "heatmap = sns.heatmap(cf_matrix, annot=True, fmt='d', color='blue',cmap=\"YlGnBu\")\n",
        "plt.xlabel('Predicted class')\n",
        "plt.ylabel('True class')\n",
        "plt.title('Confusion matrix of model')"
      ],
      "execution_count": 142,
      "outputs": [
        {
          "output_type": "execute_result",
          "data": {
            "text/plain": [
              "Text(0.5, 1.0, 'Confusion matrix of model')"
            ]
          },
          "metadata": {
            "tags": []
          },
          "execution_count": 142
        },
        {
          "output_type": "display_data",
          "data": {
            "image/png": "[encoded data removed]",
            "text/plain": [
              "<Figure size 432x288 with 2 Axes>"
            ]
          },
          "metadata": {
            "tags": [],
            "needs_background": "light"
          }
        }
      ]
    },
    {
      "cell_type": "code",
      "metadata": {
        "execution": {
          "iopub.status.busy": "2021-07-08T22:46:44.322525Z",
          "iopub.execute_input": "2021-07-08T22:46:44.323122Z",
          "iopub.status.idle": "2021-07-08T22:46:44.498749Z",
          "shell.execute_reply.started": "2021-07-08T22:46:44.323070Z",
          "shell.execute_reply": "2021-07-08T22:46:44.497723Z"
        },
        "trusted": true,
        "id": "CVXnmpIzcBD_",
        "colab": {
          "base_uri": "https://localhost:8080/"
        },
        "outputId": "44b5f4d3-81fb-4489-cec6-2169a7c2d668"
      },
      "source": [
        "print(classification_report(y_test, y_classes))"
      ],
      "execution_count": 143,
      "outputs": [
        {
          "output_type": "stream",
          "text": [
            "              precision    recall  f1-score   support\n",
            "\n",
            "           0       0.94      0.97      0.95     43338\n",
            "           1       0.97      0.94      0.95     43742\n",
            "\n",
            "    accuracy                           0.95     87080\n",
            "   macro avg       0.95      0.95      0.95     87080\n",
            "weighted avg       0.95      0.95      0.95     87080\n",
            "\n"
          ],
          "name": "stdout"
        }
      ]
    },
    {
      "cell_type": "code",
      "metadata": {
        "execution": {
          "iopub.status.busy": "2021-07-08T23:50:39.062889Z",
          "iopub.execute_input": "2021-07-08T23:50:39.063431Z",
          "iopub.status.idle": "2021-07-08T23:50:39.137735Z",
          "shell.execute_reply.started": "2021-07-08T23:50:39.063389Z",
          "shell.execute_reply": "2021-07-08T23:50:39.134037Z"
        },
        "trusted": true,
        "id": "lrIvGRtTcBD_"
      },
      "source": [
        "model.save(\"ann.h5\")"
      ],
      "execution_count": 144,
      "outputs": []
    },
    {
      "cell_type": "code",
      "metadata": {
        "id": "kjTapVuKHcoZ"
      },
      "source": [
        "fpr_ann, tpr_ann, thresholds_ann = roc_curve(y_test, y_pred_ann)\n",
        "roc_auc_ann = auc(fpr_ann, tpr_ann)\n",
        "precision_ann, recall_ann, th_ann = precision_recall_curve(y_test, y_pred_ann)"
      ],
      "execution_count": 145,
      "outputs": []
    },
    {
      "cell_type": "code",
      "metadata": {
        "execution": {
          "iopub.status.busy": "2021-07-08T22:46:47.834187Z",
          "iopub.execute_input": "2021-07-08T22:46:47.834552Z",
          "iopub.status.idle": "2021-07-08T23:08:26.120942Z",
          "shell.execute_reply.started": "2021-07-08T22:46:47.834520Z",
          "shell.execute_reply": "2021-07-08T23:08:26.119178Z"
        },
        "trusted": true,
        "id": "2Arm7KSJcBD_"
      },
      "source": [
        "from xgboost import XGBClassifier\n",
        "xgb = XGBClassifier(learning_rate =0.05,\n",
        "             n_estimators=1000,\n",
        "             max_depth=10,\n",
        "             min_child_weight=1,\n",
        "             gamma=0,\n",
        "             subsample=0.8,\n",
        "             colsample_bytree=0.8,\n",
        "             objective= 'binary:logistic',\n",
        "             nthread=4,\n",
        "             scale_pos_weight=1,\n",
        "             seed=27)\n",
        "xgb.fit(X_train, y_train)\n",
        "y_pred_xgb = xgb.predict(X_test)"
      ],
      "execution_count": 87,
      "outputs": []
    },
    {
      "cell_type": "code",
      "metadata": {
        "execution": {
          "iopub.status.busy": "2021-07-08T23:09:44.471147Z",
          "iopub.execute_input": "2021-07-08T23:09:44.471543Z",
          "iopub.status.idle": "2021-07-08T23:09:45.259696Z",
          "shell.execute_reply.started": "2021-07-08T23:09:44.471506Z",
          "shell.execute_reply": "2021-07-08T23:09:45.258317Z"
        },
        "trusted": true,
        "id": "QXb9G-0-cBD_",
        "colab": {
          "base_uri": "https://localhost:8080/"
        },
        "outputId": "82dc007f-bbd3-4d06-f80e-6597d68bbef8"
      },
      "source": [
        "joblib.dump(xgb, \"Xgboost.joblib\")"
      ],
      "execution_count": 88,
      "outputs": [
        {
          "output_type": "execute_result",
          "data": {
            "text/plain": [
              "['Xgboost.joblib']"
            ]
          },
          "metadata": {
            "tags": []
          },
          "execution_count": 88
        }
      ]
    },
    {
      "cell_type": "code",
      "metadata": {
        "execution": {
          "iopub.status.busy": "2021-07-08T23:08:50.134281Z",
          "iopub.execute_input": "2021-07-08T23:08:50.134814Z",
          "iopub.status.idle": "2021-07-08T23:08:50.450786Z",
          "shell.execute_reply.started": "2021-07-08T23:08:50.134772Z",
          "shell.execute_reply": "2021-07-08T23:08:50.449297Z"
        },
        "trusted": true,
        "id": "rKRv5mJBcBD_"
      },
      "source": [
        "xgb_accuracy=\"%.3f\" %round(accuracy_score(y_test, y_pred_xgb),3)\n",
        "xgb_prec=\"%.3f\" %round(precision_score(y_test, y_pred_xgb),3)\n",
        "xgb_rec=\"%.3f\" %round(recall_score(y_test, y_pred_xgb),3)\n",
        "xgb_f1=\"%.3f\" %round(f1_score(y_test, y_pred_xgb),3)\n",
        "xgb_lgloss=\"%.3f\" %round(log_loss(y_test, y_pred_xgb),3)\n",
        "xgb_rocauc=\"%.3f\" %round(roc_auc_score(y_test, y_pred_xgb),3)"
      ],
      "execution_count": 147,
      "outputs": []
    },
    {
      "cell_type": "code",
      "metadata": {
        "execution": {
          "iopub.status.busy": "2021-07-08T23:08:26.317602Z",
          "iopub.execute_input": "2021-07-08T23:08:26.317998Z",
          "iopub.status.idle": "2021-07-08T23:08:26.327981Z",
          "shell.execute_reply.started": "2021-07-08T23:08:26.317956Z",
          "shell.execute_reply": "2021-07-08T23:08:26.326822Z"
        },
        "trusted": true,
        "id": "AJvK_79ZcBD_",
        "colab": {
          "base_uri": "https://localhost:8080/",
          "height": 35
        },
        "outputId": "7d59b7f0-470c-4a0d-aa57-a80b408feeaa"
      },
      "source": [
        "xgb_accuracy"
      ],
      "execution_count": 149,
      "outputs": [
        {
          "output_type": "execute_result",
          "data": {
            "application/vnd.google.colaboratory.intrinsic+json": {
              "type": "string"
            },
            "text/plain": [
              "'0.969'"
            ]
          },
          "metadata": {
            "tags": []
          },
          "execution_count": 149
        }
      ]
    },
    {
      "cell_type": "code",
      "metadata": {
        "execution": {
          "iopub.status.busy": "2021-07-08T23:08:26.329480Z",
          "iopub.execute_input": "2021-07-08T23:08:26.329943Z",
          "iopub.status.idle": "2021-07-08T23:08:26.709163Z",
          "shell.execute_reply.started": "2021-07-08T23:08:26.329904Z",
          "shell.execute_reply": "2021-07-08T23:08:26.707147Z"
        },
        "trusted": true,
        "id": "qUKytKoncBEA",
        "colab": {
          "base_uri": "https://localhost:8080/",
          "height": 313
        },
        "outputId": "0cd47011-52b3-40fb-9fcf-0fded10d4745"
      },
      "source": [
        "cf_matrix = confusion_matrix(y_test, y_pred_xgb)\n",
        "import seaborn as sns\n",
        "plt.figure(figsize=(6,4))\n",
        "heatmap = sns.heatmap(cf_matrix, annot=True, fmt='d', color='blue',cmap=\"YlGnBu\")\n",
        "plt.xlabel('Predicted class')\n",
        "plt.ylabel('True class')\n",
        "plt.title('Confusion matrix of model')"
      ],
      "execution_count": 110,
      "outputs": [
        {
          "output_type": "execute_result",
          "data": {
            "text/plain": [
              "Text(0.5, 1.0, 'Confusion matrix of model')"
            ]
          },
          "metadata": {
            "tags": []
          },
          "execution_count": 110
        },
        {
          "output_type": "display_data",
          "data": {
            "image/png": "[encoded data removed]",
            "text/plain": [
              "<Figure size 432x288 with 2 Axes>"
            ]
          },
          "metadata": {
            "tags": [],
            "needs_background": "light"
          }
        }
      ]
    },
    {
      "cell_type": "code",
      "metadata": {
        "execution": {
          "iopub.status.busy": "2021-07-08T23:08:26.710609Z",
          "iopub.execute_input": "2021-07-08T23:08:26.711031Z",
          "iopub.status.idle": "2021-07-08T23:08:26.903679Z",
          "shell.execute_reply.started": "2021-07-08T23:08:26.710977Z",
          "shell.execute_reply": "2021-07-08T23:08:26.902672Z"
        },
        "trusted": true,
        "id": "UqDRr89HcBEA",
        "colab": {
          "base_uri": "https://localhost:8080/"
        },
        "outputId": "eb8b3c41-49ef-4b86-e5eb-f2471e4ca1d9"
      },
      "source": [
        "print(classification_report(y_test, y_pred_xgb))"
      ],
      "execution_count": 111,
      "outputs": [
        {
          "output_type": "stream",
          "text": [
            "              precision    recall  f1-score   support\n",
            "\n",
            "           0       0.96      0.97      0.97     43338\n",
            "           1       0.97      0.96      0.97     43742\n",
            "\n",
            "    accuracy                           0.97     87080\n",
            "   macro avg       0.97      0.97      0.97     87080\n",
            "weighted avg       0.97      0.97      0.97     87080\n",
            "\n"
          ],
          "name": "stdout"
        }
      ]
    },
    {
      "cell_type": "code",
      "metadata": {
        "id": "BxlyxuduHxl5"
      },
      "source": [
        "fpr_xgb, tpr_xgb, thresholds_xgb = roc_curve(y_test, y_pred_xgb)\n",
        "roc_auc_xgb = auc(fpr_xgb, tpr_xgb)\n",
        "precision_xgb, recall_xgb, th_xgb = precision_recall_curve(y_test, y_pred_xgb)"
      ],
      "execution_count": 112,
      "outputs": []
    },
    {
      "cell_type": "code",
      "metadata": {
        "execution": {
          "iopub.status.busy": "2021-07-08T23:09:06.368378Z",
          "iopub.execute_input": "2021-07-08T23:09:06.368975Z",
          "iopub.status.idle": "2021-07-08T23:09:06.675778Z",
          "shell.execute_reply.started": "2021-07-08T23:09:06.368921Z",
          "shell.execute_reply": "2021-07-08T23:09:06.673094Z"
        },
        "trusted": true,
        "id": "VqciQ15vcBEA"
      },
      "source": [
        "from sklearn.linear_model import RidgeClassifier\n",
        "rc = RidgeClassifier()\n",
        "rc_fit = rc.fit(X_train, y_train)\n",
        "y_pred_rc = rc_fit.predict(X_test)"
      ],
      "execution_count": 113,
      "outputs": []
    },
    {
      "cell_type": "code",
      "metadata": {
        "execution": {
          "iopub.status.busy": "2021-07-08T23:09:11.704932Z",
          "iopub.execute_input": "2021-07-08T23:09:11.705366Z",
          "iopub.status.idle": "2021-07-08T23:09:11.720809Z",
          "shell.execute_reply.started": "2021-07-08T23:09:11.705335Z",
          "shell.execute_reply": "2021-07-08T23:09:11.719547Z"
        },
        "trusted": true,
        "id": "MkVTAPpZcBEA"
      },
      "source": [
        "rc_accuracy=accuracy_score(y_test, y_pred_rc)"
      ],
      "execution_count": 114,
      "outputs": []
    },
    {
      "cell_type": "code",
      "metadata": {
        "execution": {
          "iopub.status.busy": "2021-07-08T23:09:59.116931Z",
          "iopub.execute_input": "2021-07-08T23:09:59.117430Z",
          "iopub.status.idle": "2021-07-08T23:09:59.124577Z",
          "shell.execute_reply.started": "2021-07-08T23:09:59.117378Z",
          "shell.execute_reply": "2021-07-08T23:09:59.123487Z"
        },
        "trusted": true,
        "id": "sYD5prtEcBEA",
        "colab": {
          "base_uri": "https://localhost:8080/"
        },
        "outputId": "d187d8c0-64b2-49dd-bab8-8d4672fa0b71"
      },
      "source": [
        "rc_accuracy"
      ],
      "execution_count": 115,
      "outputs": [
        {
          "output_type": "execute_result",
          "data": {
            "text/plain": [
              "0.8736793752870923"
            ]
          },
          "metadata": {
            "tags": []
          },
          "execution_count": 115
        }
      ]
    },
    {
      "cell_type": "code",
      "metadata": {
        "execution": {
          "iopub.status.busy": "2021-07-08T23:10:02.915513Z",
          "iopub.execute_input": "2021-07-08T23:10:02.916035Z",
          "iopub.status.idle": "2021-07-08T23:10:03.104185Z",
          "shell.execute_reply.started": "2021-07-08T23:10:02.915980Z",
          "shell.execute_reply": "2021-07-08T23:10:03.103266Z"
        },
        "trusted": true,
        "id": "2EQmNB8lcBEA"
      },
      "source": [
        "rc_accuracy=\"%.3f\" %round(accuracy_score(y_test, y_pred_rc),3)\n",
        "rc_prec=\"%.3f\" %round(precision_score(y_test, y_pred_rc),3)\n",
        "rc_rec=\"%.3f\" %round(recall_score(y_test, y_pred_rc),3)\n",
        "rc_f1=\"%.3f\" %round(f1_score(y_test, y_pred_rc),3)\n",
        "rc_lgloss=\"%.3f\" %round(log_loss(y_test, y_pred_rc),3)\n",
        "rc_rocauc=\"%.3f\" %round(roc_auc_score(y_test, y_pred_rc),3)"
      ],
      "execution_count": 116,
      "outputs": []
    },
    {
      "cell_type": "code",
      "metadata": {
        "execution": {
          "iopub.status.busy": "2021-07-08T23:10:05.380521Z",
          "iopub.execute_input": "2021-07-08T23:10:05.381055Z",
          "iopub.status.idle": "2021-07-08T23:10:05.764072Z",
          "shell.execute_reply.started": "2021-07-08T23:10:05.380995Z",
          "shell.execute_reply": "2021-07-08T23:10:05.763285Z"
        },
        "trusted": true,
        "id": "_0fAFr7wcBEA",
        "colab": {
          "base_uri": "https://localhost:8080/",
          "height": 313
        },
        "outputId": "696ab899-e3d8-45bd-f87a-b5fce97246f5"
      },
      "source": [
        "cf_matrix = confusion_matrix(y_test, y_pred_rc)\n",
        "plt.figure(figsize=(6,4))\n",
        "heatmap = sns.heatmap(cf_matrix, annot=True, fmt='d', color='blue',cmap=\"YlGnBu\")\n",
        "plt.xlabel('Predicted class')\n",
        "plt.ylabel('True class')\n",
        "plt.title('Confusion matrix of model')"
      ],
      "execution_count": 117,
      "outputs": [
        {
          "output_type": "execute_result",
          "data": {
            "text/plain": [
              "Text(0.5, 1.0, 'Confusion matrix of model')"
            ]
          },
          "metadata": {
            "tags": []
          },
          "execution_count": 117
        },
        {
          "output_type": "display_data",
          "data": {
            "image/png": "[encoded data removed]",
            "text/plain": [
              "<Figure size 432x288 with 2 Axes>"
            ]
          },
          "metadata": {
            "tags": [],
            "needs_background": "light"
          }
        }
      ]
    },
    {
      "cell_type": "code",
      "metadata": {
        "execution": {
          "iopub.status.busy": "2021-07-08T23:10:09.940134Z",
          "iopub.execute_input": "2021-07-08T23:10:09.940658Z",
          "iopub.status.idle": "2021-07-08T23:10:10.132834Z",
          "shell.execute_reply.started": "2021-07-08T23:10:09.940615Z",
          "shell.execute_reply": "2021-07-08T23:10:10.131802Z"
        },
        "trusted": true,
        "id": "kt4FdFZjcBEB",
        "colab": {
          "base_uri": "https://localhost:8080/"
        },
        "outputId": "fe636eb0-cd83-4aa5-cc66-9441231ad2d1"
      },
      "source": [
        "print(classification_report(y_test, y_pred_rc))"
      ],
      "execution_count": 118,
      "outputs": [
        {
          "output_type": "stream",
          "text": [
            "              precision    recall  f1-score   support\n",
            "\n",
            "           0       0.96      0.78      0.86     43338\n",
            "           1       0.82      0.97      0.89     43742\n",
            "\n",
            "    accuracy                           0.87     87080\n",
            "   macro avg       0.89      0.87      0.87     87080\n",
            "weighted avg       0.89      0.87      0.87     87080\n",
            "\n"
          ],
          "name": "stdout"
        }
      ]
    },
    {
      "cell_type": "code",
      "metadata": {
        "id": "Wt_XpHG4ICN9"
      },
      "source": [
        "fpr_rc, tpr_rc, thresholds_rc = roc_curve(y_test, y_pred_rc)\n",
        "roc_auc_rc = auc(fpr_rc, tpr_rc)\n",
        "precision_rc, recall_rc, th_rc = precision_recall_curve(y_test, y_pred_rc)"
      ],
      "execution_count": 119,
      "outputs": []
    },
    {
      "cell_type": "code",
      "metadata": {
        "execution": {
          "iopub.status.busy": "2021-07-08T23:10:34.661660Z",
          "iopub.execute_input": "2021-07-08T23:10:34.662050Z",
          "iopub.status.idle": "2021-07-08T23:10:35.435899Z",
          "shell.execute_reply.started": "2021-07-08T23:10:34.661991Z",
          "shell.execute_reply": "2021-07-08T23:10:35.434449Z"
        },
        "trusted": true,
        "id": "WBnsF4yWcBEB"
      },
      "source": [
        "sgd = SGDClassifier()\n",
        "sgd_fit = sgd.fit(X_train, y_train)\n",
        "y_pred_sgd = sgd_fit.predict(X_test)"
      ],
      "execution_count": 120,
      "outputs": []
    },
    {
      "cell_type": "code",
      "metadata": {
        "execution": {
          "iopub.status.busy": "2021-07-08T23:10:37.133441Z",
          "iopub.execute_input": "2021-07-08T23:10:37.133787Z",
          "iopub.status.idle": "2021-07-08T23:10:37.324559Z",
          "shell.execute_reply.started": "2021-07-08T23:10:37.133757Z",
          "shell.execute_reply": "2021-07-08T23:10:37.323661Z"
        },
        "trusted": true,
        "id": "pBqdaPhdcBEB"
      },
      "source": [
        "sgd_accuracy=\"%.3f\" %round(accuracy_score(y_test, y_pred_sgd),3)\n",
        "sgd_prec=\"%.3f\" %round(precision_score(y_test, y_pred_sgd),3)\n",
        "sgd_rec=\"%.3f\" %round(recall_score(y_test, y_pred_sgd),3)\n",
        "sgd_f1=\"%.3f\" %round(f1_score(y_test, y_pred_sgd),3)\n",
        "sgd_lgloss=\"%.3f\" %round(log_loss(y_test, y_pred_sgd),3)\n",
        "sgd_rocauc=\"%.3f\" %round(roc_auc_score(y_test, y_pred_sgd),3)"
      ],
      "execution_count": 121,
      "outputs": []
    },
    {
      "cell_type": "code",
      "metadata": {
        "execution": {
          "iopub.status.busy": "2021-07-08T23:10:40.464858Z",
          "iopub.execute_input": "2021-07-08T23:10:40.465505Z",
          "iopub.status.idle": "2021-07-08T23:10:40.843580Z",
          "shell.execute_reply.started": "2021-07-08T23:10:40.465446Z",
          "shell.execute_reply": "2021-07-08T23:10:40.842777Z"
        },
        "trusted": true,
        "id": "01d6g2elcBEB",
        "colab": {
          "base_uri": "https://localhost:8080/",
          "height": 313
        },
        "outputId": "8734ba3b-0995-4f39-ec65-afbacb2eab52"
      },
      "source": [
        "cf_matrix = confusion_matrix(y_test, y_pred_sgd)\n",
        "import seaborn as sns\n",
        "plt.figure(figsize=(6,4))\n",
        "heatmap = sns.heatmap(cf_matrix, annot=True, fmt='d', color='blue',cmap=\"YlGnBu\")\n",
        "plt.xlabel('Predicted class')\n",
        "plt.ylabel('True class')\n",
        "plt.title('Confusion matrix of model')"
      ],
      "execution_count": 122,
      "outputs": [
        {
          "output_type": "execute_result",
          "data": {
            "text/plain": [
              "Text(0.5, 1.0, 'Confusion matrix of model')"
            ]
          },
          "metadata": {
            "tags": []
          },
          "execution_count": 122
        },
        {
          "output_type": "display_data",
          "data": {
            "image/png": "[encoded data removed]",
            "text/plain": [
              "<Figure size 432x288 with 2 Axes>"
            ]
          },
          "metadata": {
            "tags": [],
            "needs_background": "light"
          }
        }
      ]
    },
    {
      "cell_type": "code",
      "metadata": {
        "execution": {
          "iopub.status.busy": "2021-07-08T23:10:47.465388Z",
          "iopub.execute_input": "2021-07-08T23:10:47.466095Z",
          "iopub.status.idle": "2021-07-08T23:10:47.661686Z",
          "shell.execute_reply.started": "2021-07-08T23:10:47.466044Z",
          "shell.execute_reply": "2021-07-08T23:10:47.660603Z"
        },
        "trusted": true,
        "id": "ZgMvgNCQcBEB",
        "colab": {
          "base_uri": "https://localhost:8080/"
        },
        "outputId": "ab7e5004-c606-4f60-dc59-8c7b6d55db5b"
      },
      "source": [
        "print(classification_report(y_test, y_pred_sgd))"
      ],
      "execution_count": 123,
      "outputs": [
        {
          "output_type": "stream",
          "text": [
            "              precision    recall  f1-score   support\n",
            "\n",
            "           0       0.86      0.91      0.88     43338\n",
            "           1       0.90      0.85      0.88     43742\n",
            "\n",
            "    accuracy                           0.88     87080\n",
            "   macro avg       0.88      0.88      0.88     87080\n",
            "weighted avg       0.88      0.88      0.88     87080\n",
            "\n"
          ],
          "name": "stdout"
        }
      ]
    },
    {
      "cell_type": "code",
      "metadata": {
        "id": "fmZNraoPdR28"
      },
      "source": [
        "fpr_sgd, tpr_sgd, thresholds_sgd = roc_curve(y_test, y_pred_sgd)\n",
        "roc_auc_sgd= auc(fpr_sgd, tpr_sgd)\n",
        "precision_sgd, recall_sgd, th_sgd = precision_recall_curve(y_test, y_pred_sgd)"
      ],
      "execution_count": 124,
      "outputs": []
    },
    {
      "cell_type": "code",
      "metadata": {
        "id": "HLELc_sT7ckN",
        "colab": {
          "base_uri": "https://localhost:8080/"
        },
        "outputId": "1d02ce96-8128-47f0-a577-9bf1c7f0c230"
      },
      "source": [
        "from sklearn.neural_network import MLPClassifier\n",
        "\n",
        "mlp = MLPClassifier(solver='sgd',alpha = 1e-4, hidden_layer_sizes = (50,100,50), \n",
        "                          activation='logistic', \n",
        "                          random_state=1,\n",
        "                          tol=1e-4,\n",
        "                          learning_rate_init=.3, \n",
        "                          verbose=True)\n",
        "mlp.fit(X_train,y_train)"
      ],
      "execution_count": 125,
      "outputs": [
        {
          "output_type": "stream",
          "text": [
            "Iteration 1, loss = 0.34139745\n",
            "Iteration 2, loss = 0.21218225\n",
            "Iteration 3, loss = 0.19830479\n",
            "Iteration 4, loss = 0.18592236\n",
            "Iteration 5, loss = 0.17750430\n",
            "Iteration 6, loss = 0.17213666\n",
            "Iteration 7, loss = 0.16889803\n",
            "Iteration 8, loss = 0.16579454\n",
            "Iteration 9, loss = 0.16435962\n",
            "Iteration 10, loss = 0.16232577\n",
            "Iteration 11, loss = 0.16049858\n",
            "Iteration 12, loss = 0.15980155\n",
            "Iteration 13, loss = 0.15863223\n",
            "Iteration 14, loss = 0.15755403\n",
            "Iteration 15, loss = 0.15672196\n",
            "Iteration 16, loss = 0.15598907\n",
            "Iteration 17, loss = 0.15549340\n",
            "Iteration 18, loss = 0.15437161\n",
            "Iteration 19, loss = 0.15391820\n",
            "Iteration 20, loss = 0.15316716\n",
            "Iteration 21, loss = 0.15256347\n",
            "Iteration 22, loss = 0.15216729\n",
            "Iteration 23, loss = 0.15103027\n",
            "Iteration 24, loss = 0.15146248\n",
            "Iteration 25, loss = 0.15003194\n",
            "Iteration 26, loss = 0.15043893\n",
            "Iteration 27, loss = 0.14927939\n",
            "Iteration 28, loss = 0.14905977\n",
            "Iteration 29, loss = 0.14872514\n",
            "Iteration 30, loss = 0.14823153\n",
            "Iteration 31, loss = 0.14761962\n",
            "Iteration 32, loss = 0.14721844\n",
            "Iteration 33, loss = 0.14758193\n",
            "Iteration 34, loss = 0.14728534\n",
            "Iteration 35, loss = 0.14655694\n",
            "Iteration 36, loss = 0.14688867\n",
            "Iteration 37, loss = 0.14605345\n",
            "Iteration 38, loss = 0.14549808\n",
            "Iteration 39, loss = 0.14568959\n",
            "Iteration 40, loss = 0.14545275\n",
            "Iteration 41, loss = 0.14469068\n",
            "Iteration 42, loss = 0.14464878\n",
            "Iteration 43, loss = 0.14488724\n",
            "Iteration 44, loss = 0.14430676\n",
            "Iteration 45, loss = 0.14392001\n",
            "Iteration 46, loss = 0.14368166\n",
            "Iteration 47, loss = 0.14337841\n",
            "Iteration 48, loss = 0.14361492\n",
            "Iteration 49, loss = 0.14321475\n",
            "Iteration 50, loss = 0.14308761\n",
            "Iteration 51, loss = 0.14322189\n",
            "Iteration 52, loss = 0.14279455\n",
            "Iteration 53, loss = 0.14247082\n",
            "Iteration 54, loss = 0.14233542\n",
            "Iteration 55, loss = 0.14178798\n",
            "Iteration 56, loss = 0.14194063\n",
            "Iteration 57, loss = 0.14172335\n",
            "Iteration 58, loss = 0.14136849\n",
            "Iteration 59, loss = 0.14133522\n",
            "Iteration 60, loss = 0.14078226\n",
            "Iteration 61, loss = 0.14026728\n",
            "Iteration 62, loss = 0.13987928\n",
            "Iteration 63, loss = 0.13910549\n",
            "Iteration 64, loss = 0.13824728\n",
            "Iteration 65, loss = 0.13723219\n",
            "Iteration 66, loss = 0.13637032\n",
            "Iteration 67, loss = 0.13501488\n",
            "Iteration 68, loss = 0.13436883\n",
            "Iteration 69, loss = 0.13347008\n",
            "Iteration 70, loss = 0.13295454\n",
            "Iteration 71, loss = 0.13230443\n",
            "Iteration 72, loss = 0.13248282\n",
            "Iteration 73, loss = 0.13191879\n",
            "Iteration 74, loss = 0.13120032\n",
            "Iteration 75, loss = 0.13115300\n",
            "Iteration 76, loss = 0.13068551\n",
            "Iteration 77, loss = 0.13066066\n",
            "Iteration 78, loss = 0.12989294\n",
            "Iteration 79, loss = 0.13003383\n",
            "Iteration 80, loss = 0.12990504\n",
            "Iteration 81, loss = 0.12975013\n",
            "Iteration 82, loss = 0.12939926\n",
            "Iteration 83, loss = 0.12946214\n",
            "Iteration 84, loss = 0.12923286\n",
            "Iteration 85, loss = 0.12922326\n",
            "Iteration 86, loss = 0.12859908\n",
            "Iteration 87, loss = 0.12910624\n",
            "Iteration 88, loss = 0.12891247\n",
            "Iteration 89, loss = 0.12842137\n",
            "Iteration 90, loss = 0.12866001\n",
            "Iteration 91, loss = 0.12831723\n",
            "Iteration 92, loss = 0.12829199\n",
            "Iteration 93, loss = 0.12828038\n",
            "Iteration 94, loss = 0.12795027\n",
            "Iteration 95, loss = 0.12800263\n",
            "Iteration 96, loss = 0.12784580\n",
            "Iteration 97, loss = 0.12781473\n",
            "Iteration 98, loss = 0.12772333\n",
            "Iteration 99, loss = 0.12757346\n",
            "Iteration 100, loss = 0.12740850\n",
            "Iteration 101, loss = 0.12761110\n",
            "Iteration 102, loss = 0.12718275\n",
            "Iteration 103, loss = 0.12726257\n",
            "Iteration 104, loss = 0.12713548\n",
            "Iteration 105, loss = 0.12705628\n",
            "Iteration 106, loss = 0.12703874\n",
            "Iteration 107, loss = 0.12713908\n",
            "Iteration 108, loss = 0.12690137\n",
            "Iteration 109, loss = 0.12692221\n",
            "Iteration 110, loss = 0.12699858\n",
            "Iteration 111, loss = 0.12685157\n",
            "Iteration 112, loss = 0.12700873\n",
            "Iteration 113, loss = 0.12635022\n",
            "Iteration 114, loss = 0.12657572\n",
            "Iteration 115, loss = 0.12662005\n",
            "Iteration 116, loss = 0.12675601\n",
            "Iteration 117, loss = 0.12639141\n",
            "Iteration 118, loss = 0.12641705\n",
            "Iteration 119, loss = 0.12668243\n",
            "Iteration 120, loss = 0.12604482\n",
            "Iteration 121, loss = 0.12602610\n",
            "Iteration 122, loss = 0.12589691\n",
            "Iteration 123, loss = 0.12632451\n",
            "Iteration 124, loss = 0.12590581\n",
            "Iteration 125, loss = 0.12583862\n",
            "Iteration 126, loss = 0.12595660\n",
            "Iteration 127, loss = 0.12634903\n",
            "Iteration 128, loss = 0.12582882\n",
            "Iteration 129, loss = 0.12591392\n",
            "Iteration 130, loss = 0.12595235\n",
            "Iteration 131, loss = 0.12587791\n",
            "Iteration 132, loss = 0.12592929\n",
            "Iteration 133, loss = 0.12579197\n",
            "Training loss did not improve more than tol=0.000100 for 10 consecutive epochs. Stopping.\n"
          ],
          "name": "stdout"
        },
        {
          "output_type": "execute_result",
          "data": {
            "text/plain": [
              "MLPClassifier(activation='logistic', alpha=0.0001, batch_size='auto',\n",
              "              beta_1=0.9, beta_2=0.999, early_stopping=False, epsilon=1e-08,\n",
              "              hidden_layer_sizes=(50, 100, 50), learning_rate='constant',\n",
              "              learning_rate_init=0.3, max_fun=15000, max_iter=200, momentum=0.9,\n",
              "              n_iter_no_change=10, nesterovs_momentum=True, power_t=0.5,\n",
              "              random_state=1, shuffle=True, solver='sgd', tol=0.0001,\n",
              "              validation_fraction=0.1, verbose=True, warm_start=False)"
            ]
          },
          "metadata": {
            "tags": []
          },
          "execution_count": 125
        }
      ]
    },
    {
      "cell_type": "code",
      "metadata": {
        "execution": {
          "iopub.status.busy": "2021-07-08T23:21:29.213953Z",
          "iopub.execute_input": "2021-07-08T23:21:29.214471Z",
          "iopub.status.idle": "2021-07-08T23:21:31.370017Z",
          "shell.execute_reply.started": "2021-07-08T23:21:29.214423Z",
          "shell.execute_reply": "2021-07-08T23:21:31.366777Z"
        },
        "trusted": true,
        "id": "yjk8rRgtcBEC",
        "colab": {
          "base_uri": "https://localhost:8080/"
        },
        "outputId": "4b751c93-a118-4f93-c001-59f174f90d86"
      },
      "source": [
        "from sklearn.metrics import accuracy_score\n",
        "pred_train = mlp.predict(X_train)\n",
        "print(accuracy_score(pred_train,y_train))\n",
        "y_pred_mlp =mlp.predict(X_test)\n",
        "print(accuracy_score(y_pred_mlp,y_test))"
      ],
      "execution_count": 126,
      "outputs": [
        {
          "output_type": "stream",
          "text": [
            "0.9401745281754929\n",
            "0.9392627468994028\n"
          ],
          "name": "stdout"
        }
      ]
    },
    {
      "cell_type": "code",
      "metadata": {
        "execution": {
          "iopub.status.busy": "2021-07-08T23:50:04.266550Z",
          "iopub.execute_input": "2021-07-08T23:50:04.267098Z",
          "iopub.status.idle": "2021-07-08T23:50:04.287740Z",
          "shell.execute_reply.started": "2021-07-08T23:50:04.267060Z",
          "shell.execute_reply": "2021-07-08T23:50:04.286067Z"
        },
        "trusted": true,
        "id": "HHs6o46_cBEC",
        "colab": {
          "base_uri": "https://localhost:8080/"
        },
        "outputId": "86334c32-8f1b-44f9-d465-040408e6c214"
      },
      "source": [
        "joblib.dump(mlp, \"mlp.joblib\")"
      ],
      "execution_count": 127,
      "outputs": [
        {
          "output_type": "execute_result",
          "data": {
            "text/plain": [
              "['mlp.joblib']"
            ]
          },
          "metadata": {
            "tags": []
          },
          "execution_count": 127
        }
      ]
    },
    {
      "cell_type": "code",
      "metadata": {
        "execution": {
          "iopub.status.busy": "2021-07-08T23:21:35.165148Z",
          "iopub.execute_input": "2021-07-08T23:21:35.165510Z",
          "iopub.status.idle": "2021-07-08T23:21:35.554620Z",
          "shell.execute_reply.started": "2021-07-08T23:21:35.165478Z",
          "shell.execute_reply": "2021-07-08T23:21:35.553766Z"
        },
        "trusted": true,
        "id": "JpzZk0IwcBEC",
        "colab": {
          "base_uri": "https://localhost:8080/"
        },
        "outputId": "f100cbe8-10a6-42b4-c5ff-68cd60c545d4"
      },
      "source": [
        "mlp_acc =\"%.3f\" % round(accuracy_score(y_test, y_pred_mlp),3)\n",
        "print('Accuracy: ',accuracy_score(y_test, y_pred_mlp))\n",
        "mlp_prec =\"%.3f\" %round(precision_score(y_test, y_pred_mlp),3)\n",
        "print('Precision: ',precision_score(y_test, y_pred_mlp))\n",
        "mlp_rec =\"%.3f\" %round(recall_score(y_test, y_pred_mlp),3)\n",
        "print('Recall: ',recall_score(y_test, y_pred_mlp))\n",
        "mlp_f1 =\"%.3f\" %round(f1_score(y_test, y_pred_mlp),3)\n",
        "print('F1 score: ',f1_score(y_test, y_pred_mlp))\n",
        "mlp_lgloss =\"%.3f\" %round(log_loss(y_test, y_pred_mlp),3)\n",
        "print('Log loss: ',log_loss(y_test, y_pred_mlp))\n",
        "mlp_rocauc =\"%.3f\" %round(roc_auc_score(y_test, y_pred_mlp),3)\n",
        "print('ROC AUC: ',roc_auc_score(y_test, y_pred_mlp))"
      ],
      "execution_count": 128,
      "outputs": [
        {
          "output_type": "stream",
          "text": [
            "Accuracy:  0.9392627468994028\n",
            "Precision:  0.9459766648883116\n",
            "Recall:  0.9323304832883728\n",
            "F1 score:  0.9391040033159477\n",
            "Log loss:  2.09781178933277\n",
            "ROC AUC:  0.9392950584331475\n"
          ],
          "name": "stdout"
        }
      ]
    },
    {
      "cell_type": "code",
      "metadata": {
        "execution": {
          "iopub.status.busy": "2021-07-08T23:21:37.619952Z",
          "iopub.execute_input": "2021-07-08T23:21:37.620743Z",
          "iopub.status.idle": "2021-07-08T23:21:38.027319Z",
          "shell.execute_reply.started": "2021-07-08T23:21:37.620699Z",
          "shell.execute_reply": "2021-07-08T23:21:38.026314Z"
        },
        "trusted": true,
        "id": "Ojry8xhjcBED",
        "colab": {
          "base_uri": "https://localhost:8080/",
          "height": 313
        },
        "outputId": "ad2f9285-2b44-409a-89cd-a87e0f0e4f8c"
      },
      "source": [
        "cf_matrix = confusion_matrix(y_test, y_pred_mlp)\n",
        "import seaborn as sns\n",
        "plt.figure(figsize=(6,4))\n",
        "heatmap = sns.heatmap(cf_matrix, annot=True, fmt='d', color='blue',cmap=\"YlGnBu\")\n",
        "plt.xlabel('Predicted class')\n",
        "plt.ylabel('True class')\n",
        "plt.title('Confusion matrix of model')"
      ],
      "execution_count": 129,
      "outputs": [
        {
          "output_type": "execute_result",
          "data": {
            "text/plain": [
              "Text(0.5, 1.0, 'Confusion matrix of model')"
            ]
          },
          "metadata": {
            "tags": []
          },
          "execution_count": 129
        },
        {
          "output_type": "display_data",
          "data": {
            "image/png": "[encoded data removed]",
            "text/plain": [
              "<Figure size 432x288 with 2 Axes>"
            ]
          },
          "metadata": {
            "tags": [],
            "needs_background": "light"
          }
        }
      ]
    },
    {
      "cell_type": "code",
      "metadata": {
        "execution": {
          "iopub.status.busy": "2021-07-08T23:21:41.729207Z",
          "iopub.execute_input": "2021-07-08T23:21:41.729872Z",
          "iopub.status.idle": "2021-07-08T23:21:41.919972Z",
          "shell.execute_reply.started": "2021-07-08T23:21:41.729832Z",
          "shell.execute_reply": "2021-07-08T23:21:41.919187Z"
        },
        "trusted": true,
        "id": "hRHu3V99cBED",
        "colab": {
          "base_uri": "https://localhost:8080/"
        },
        "outputId": "602680ab-8a04-4c2c-d449-dd5cc6fb4613"
      },
      "source": [
        "print(classification_report(y_test, y_pred_mlp))"
      ],
      "execution_count": 130,
      "outputs": [
        {
          "output_type": "stream",
          "text": [
            "              precision    recall  f1-score   support\n",
            "\n",
            "           0       0.93      0.95      0.94     43338\n",
            "           1       0.95      0.93      0.94     43742\n",
            "\n",
            "    accuracy                           0.94     87080\n",
            "   macro avg       0.94      0.94      0.94     87080\n",
            "weighted avg       0.94      0.94      0.94     87080\n",
            "\n"
          ],
          "name": "stdout"
        }
      ]
    },
    {
      "cell_type": "code",
      "metadata": {
        "id": "__7Nu6Kke8yL"
      },
      "source": [
        "fpr_mlp, tpr_mlp, thresholds_mlp = roc_curve(y_test, y_pred_mlp)\n",
        "roc_auc_mlp= auc(fpr_mlp, tpr_mlp)\n",
        "precision_mlp, recall_mlp, th_mlp = precision_recall_curve(y_test, y_pred_mlp)"
      ],
      "execution_count": 131,
      "outputs": []
    },
    {
      "cell_type": "code",
      "metadata": {
        "execution": {
          "iopub.status.busy": "2021-07-08T23:21:48.003324Z",
          "iopub.execute_input": "2021-07-08T23:21:48.003906Z",
          "iopub.status.idle": "2021-07-08T23:21:49.661077Z",
          "shell.execute_reply.started": "2021-07-08T23:21:48.003871Z",
          "shell.execute_reply": "2021-07-08T23:21:49.660248Z"
        },
        "trusted": true,
        "id": "lrfrB_vwcBED",
        "colab": {
          "base_uri": "https://localhost:8080/"
        },
        "outputId": "2cb84cfd-7f41-45e0-e342-576e1bea6c41"
      },
      "source": [
        "from sklearn.tree import DecisionTreeClassifier\n",
        "\n",
        "dt = DecisionTreeClassifier(max_depth=26,criterion='entropy')\n",
        "\n",
        "dt = dt.fit(X_train,y_train)\n",
        "\n",
        "y_pred_dt = dt.predict(X_test)\n",
        "dt_acc=accuracy_score(y_test, y_pred_dt)\n",
        "print(dt_acc)"
      ],
      "execution_count": 132,
      "outputs": [
        {
          "output_type": "stream",
          "text": [
            "0.9568442811208084\n"
          ],
          "name": "stdout"
        }
      ]
    },
    {
      "cell_type": "code",
      "metadata": {
        "execution": {
          "iopub.status.busy": "2021-07-08T23:21:54.249976Z",
          "iopub.execute_input": "2021-07-08T23:21:54.250612Z",
          "iopub.status.idle": "2021-07-08T23:21:54.438434Z",
          "shell.execute_reply.started": "2021-07-08T23:21:54.250575Z",
          "shell.execute_reply": "2021-07-08T23:21:54.437637Z"
        },
        "trusted": true,
        "id": "Ks6rSOyscBED"
      },
      "source": [
        "dt_accuracy=\"%.3f\" %round(accuracy_score(y_test, y_pred_dt),3)\n",
        "dt_prec=\"%.3f\" %round(precision_score(y_test, y_pred_dt),3)\n",
        "dt_rec=\"%.3f\" %round(recall_score(y_test, y_pred_dt),3)\n",
        "dt_f1=\"%.3f\" %round(f1_score(y_test, y_pred_dt),3)\n",
        "dt_lgloss=\"%.3f\" %round(log_loss(y_test, y_pred_dt),3)\n",
        "dt_rocauc=\"%.3f\" %round(roc_auc_score(y_test, y_pred_dt),3)"
      ],
      "execution_count": 133,
      "outputs": []
    },
    {
      "cell_type": "code",
      "metadata": {
        "id": "jijpFCwQiKMt",
        "colab": {
          "base_uri": "https://localhost:8080/"
        },
        "outputId": "89f59e5c-e6e2-4cb0-ec64-29ef335c8240"
      },
      "source": [
        "joblib.dump(dt, \"dt.joblib\")"
      ],
      "execution_count": 134,
      "outputs": [
        {
          "output_type": "execute_result",
          "data": {
            "text/plain": [
              "['dt.joblib']"
            ]
          },
          "metadata": {
            "tags": []
          },
          "execution_count": 134
        }
      ]
    },
    {
      "cell_type": "code",
      "metadata": {
        "execution": {
          "iopub.status.busy": "2021-07-08T23:21:57.288354Z",
          "iopub.execute_input": "2021-07-08T23:21:57.288918Z",
          "iopub.status.idle": "2021-07-08T23:21:57.664533Z",
          "shell.execute_reply.started": "2021-07-08T23:21:57.288885Z",
          "shell.execute_reply": "2021-07-08T23:21:57.663767Z"
        },
        "trusted": true,
        "id": "FvUjXB09cBED",
        "colab": {
          "base_uri": "https://localhost:8080/",
          "height": 313
        },
        "outputId": "1e6e1729-54d5-4362-d3ae-fd14ca33b86a"
      },
      "source": [
        "cf_matrix = confusion_matrix(y_test, y_pred_dt)\n",
        "import seaborn as sns\n",
        "plt.figure(figsize=(6,4))\n",
        "heatmap = sns.heatmap(cf_matrix, annot=True, fmt='d', color='blue',cmap=\"YlGnBu\")\n",
        "plt.xlabel('Predicted class')\n",
        "plt.ylabel('True class')\n",
        "plt.title('Confusion matrix of model')"
      ],
      "execution_count": 135,
      "outputs": [
        {
          "output_type": "execute_result",
          "data": {
            "text/plain": [
              "Text(0.5, 1.0, 'Confusion matrix of model')"
            ]
          },
          "metadata": {
            "tags": []
          },
          "execution_count": 135
        },
        {
          "output_type": "display_data",
          "data": {
            "image/png": "[encoded data removed]",
            "text/plain": [
              "<Figure size 432x288 with 2 Axes>"
            ]
          },
          "metadata": {
            "tags": [],
            "needs_background": "light"
          }
        }
      ]
    },
    {
      "cell_type": "code",
      "metadata": {
        "execution": {
          "iopub.status.busy": "2021-07-08T23:22:01.483597Z",
          "iopub.execute_input": "2021-07-08T23:22:01.484226Z",
          "iopub.status.idle": "2021-07-08T23:22:01.673667Z",
          "shell.execute_reply.started": "2021-07-08T23:22:01.484188Z",
          "shell.execute_reply": "2021-07-08T23:22:01.672894Z"
        },
        "trusted": true,
        "id": "LlIuSAndcBED",
        "colab": {
          "base_uri": "https://localhost:8080/"
        },
        "outputId": "51bd08ce-ab8d-4f0b-8624-8e8a6a21467e"
      },
      "source": [
        "print(classification_report(y_test, y_pred_dt))"
      ],
      "execution_count": 136,
      "outputs": [
        {
          "output_type": "stream",
          "text": [
            "              precision    recall  f1-score   support\n",
            "\n",
            "           0       0.95      0.97      0.96     43338\n",
            "           1       0.97      0.94      0.96     43742\n",
            "\n",
            "    accuracy                           0.96     87080\n",
            "   macro avg       0.96      0.96      0.96     87080\n",
            "weighted avg       0.96      0.96      0.96     87080\n",
            "\n"
          ],
          "name": "stdout"
        }
      ]
    },
    {
      "cell_type": "code",
      "metadata": {
        "id": "MfP24WRKfb4e"
      },
      "source": [
        "fpr_dt, tpr_dt, thresholds_dt = roc_curve(y_test, y_pred_dt)\n",
        "roc_auc_dt= auc(fpr_dt, tpr_dt)\n",
        "precision_dt, recall_dt, th_dt = precision_recall_curve(y_test, y_pred_dt)"
      ],
      "execution_count": 137,
      "outputs": []
    },
    {
      "cell_type": "code",
      "metadata": {
        "execution": {
          "iopub.status.busy": "2021-07-08T23:22:03.994144Z",
          "iopub.execute_input": "2021-07-08T23:22:03.994711Z",
          "iopub.status.idle": "2021-07-08T23:22:04.027903Z",
          "shell.execute_reply.started": "2021-07-08T23:22:03.994659Z",
          "shell.execute_reply": "2021-07-08T23:22:04.026148Z"
        },
        "trusted": true,
        "id": "bv6KqiJQcBEE",
        "colab": {
          "base_uri": "https://localhost:8080/",
          "height": 234
        },
        "outputId": "d35b7531-b0fe-48a4-e734-2d82e05c6cda"
      },
      "source": [
        "from IPython.display import display\n",
        "dict={'Model' :[\"LogisticRegression\",\"Artificialneuralnetwork\",\"MultilayerPerceptron\",\"DecisionTree\",\"RandomForest\",\"XGBoost\"],\n",
        "     'Accuracy' :[log_acc,ann_acc,mlp_acc,dt_accuracy,rf_accuracy,xgb_accuracy],\n",
        "     'Precision':[log_prec,ann_prec,mlp_prec,dt_prec,rf_prec,xgb_prec],\n",
        "     'Recall' :[log_rec,ann_rec,mlp_rec,dt_rec,rf_rec,xgb_rec],\n",
        "     'F1 score' :[log_f1,ann_f1,mlp_f1,dt_f1,rf_f1,xgb_f1],\n",
        "     'Log loss' :[log_lgloss,ann_lgloss,mlp_lgloss,dt_lgloss,rf_lgloss,xgb_lgloss], \n",
        "     'ROCAUC' :[log_rocauc,ann_rocauc,mlp_rocauc,dt_rocauc,rf_rocauc,xgb_rocauc]}\n",
        "\n",
        "df = pd.DataFrame({ key:pd.Series(value) for key, value in dict.items() })\n",
        "\n",
        "display(df)\n"
      ],
      "execution_count": 150,
      "outputs": [
        {
          "output_type": "display_data",
          "data": {
            "text/html": [
              "<div>\n",
              "<style scoped>\n",
              "    .dataframe tbody tr th:only-of-type {\n",
              "        vertical-align: middle;\n",
              "    }\n",
              "\n",
              "    .dataframe tbody tr th {\n",
              "        vertical-align: top;\n",
              "    }\n",
              "\n",
              "    .dataframe thead th {\n",
              "        text-align: right;\n",
              "    }\n",
              "</style>\n",
              "<table border=\"1\" class=\"dataframe\">\n",
              "  <thead>\n",
              "    <tr style=\"text-align: right;\">\n",
              "      <th></th>\n",
              "      <th>Model</th>\n",
              "      <th>Accuracy</th>\n",
              "      <th>Precision</th>\n",
              "      <th>Recall</th>\n",
              "      <th>F1 score</th>\n",
              "      <th>Log loss</th>\n",
              "      <th>ROCAUC</th>\n",
              "    </tr>\n",
              "  </thead>\n",
              "  <tbody>\n",
              "    <tr>\n",
              "      <th>0</th>\n",
              "      <td>LogisticRegression</td>\n",
              "      <td>0.897</td>\n",
              "      <td>0.882</td>\n",
              "      <td>0.917</td>\n",
              "      <td>0.899</td>\n",
              "      <td>3.571</td>\n",
              "      <td>0.897</td>\n",
              "    </tr>\n",
              "    <tr>\n",
              "      <th>1</th>\n",
              "      <td>Artificialneuralnetwork</td>\n",
              "      <td>0.954</td>\n",
              "      <td>1.000</td>\n",
              "      <td>0.938</td>\n",
              "      <td>0.954</td>\n",
              "      <td>1.578</td>\n",
              "      <td>0.954</td>\n",
              "    </tr>\n",
              "    <tr>\n",
              "      <th>2</th>\n",
              "      <td>MultilayerPerceptron</td>\n",
              "      <td>0.939</td>\n",
              "      <td>0.946</td>\n",
              "      <td>0.932</td>\n",
              "      <td>0.939</td>\n",
              "      <td>2.098</td>\n",
              "      <td>0.939</td>\n",
              "    </tr>\n",
              "    <tr>\n",
              "      <th>3</th>\n",
              "      <td>DecisionTree</td>\n",
              "      <td>0.957</td>\n",
              "      <td>0.969</td>\n",
              "      <td>0.944</td>\n",
              "      <td>0.956</td>\n",
              "      <td>1.491</td>\n",
              "      <td>0.957</td>\n",
              "    </tr>\n",
              "    <tr>\n",
              "      <th>4</th>\n",
              "      <td>RandomForest</td>\n",
              "      <td>0.967</td>\n",
              "      <td>0.974</td>\n",
              "      <td>0.960</td>\n",
              "      <td>0.967</td>\n",
              "      <td>1.153</td>\n",
              "      <td>0.967</td>\n",
              "    </tr>\n",
              "    <tr>\n",
              "      <th>5</th>\n",
              "      <td>XGBoost</td>\n",
              "      <td>0.969</td>\n",
              "      <td>0.974</td>\n",
              "      <td>0.964</td>\n",
              "      <td>0.969</td>\n",
              "      <td>1.076</td>\n",
              "      <td>0.969</td>\n",
              "    </tr>\n",
              "  </tbody>\n",
              "</table>\n",
              "</div>"
            ],
            "text/plain": [
              "                     Model Accuracy Precision Recall F1 score Log loss ROCAUC\n",
              "0       LogisticRegression    0.897     0.882  0.917    0.899    3.571  0.897\n",
              "1  Artificialneuralnetwork    0.954     1.000  0.938    0.954    1.578  0.954\n",
              "2     MultilayerPerceptron    0.939     0.946  0.932    0.939    2.098  0.939\n",
              "3             DecisionTree    0.957     0.969  0.944    0.956    1.491  0.957\n",
              "4             RandomForest    0.967     0.974  0.960    0.967    1.153  0.967\n",
              "5                  XGBoost    0.969     0.974  0.964    0.969    1.076  0.969"
            ]
          },
          "metadata": {
            "tags": []
          }
        }
      ]
    },
    {
      "cell_type": "code",
      "metadata": {
        "id": "l3sMRWCYfyvM",
        "colab": {
          "base_uri": "https://localhost:8080/",
          "height": 295
        },
        "outputId": "9935545e-94ba-48b8-e773-863796c52660"
      },
      "source": [
        "plt.plot([0, 1], [0, 1], 'k--')\n",
        "plt.plot(fpr_log, tpr_log, label='Log Reg (area = %0.3f)' % roc_auc_log)\n",
        "plt.plot(fpr_mlp, tpr_mlp, label='MLP (area = %0.3f)' % roc_auc_mlp)\n",
        "plt.plot(fpr_ann, tpr_ann, label='ANN (area = %0.3f)' % roc_auc_ann)\n",
        "plt.plot(fpr_rf, tpr_rf, label='Randomforest (area = %0.3f)' % roc_auc_rf)\n",
        "plt.plot(fpr_xgb, tpr_xgb, label='XGBoost (area = %0.3f)' % roc_auc_xgb)\n",
        "plt.xlabel('False Positive Rate')\n",
        "plt.ylabel('True Positive Rate')\n",
        "plt.title('ROC curves from the investigated models')\n",
        "plt.legend(loc='best')\n",
        "plt.show()"
      ],
      "execution_count": 151,
      "outputs": [
        {
          "output_type": "display_data",
          "data": {
            "image/png": "[encoded data removed]",
            "text/plain": [
              "<Figure size 432x288 with 1 Axes>"
            ]
          },
          "metadata": {
            "tags": [],
            "needs_background": "light"
          }
        }
      ]
    },
    {
      "cell_type": "code",
      "metadata": {
        "id": "MT1uSitYhIVm",
        "colab": {
          "base_uri": "https://localhost:8080/",
          "height": 295
        },
        "outputId": "4afedc7f-a35f-4b0d-e831-0181713d3256"
      },
      "source": [
        "plt.plot([1, 0], [0, 1], 'k--')\n",
        "plt.plot(recall_log, precision_log, label='Log Reg')\n",
        "plt.plot(recall_mlp, precision_mlp, label='MLP')\n",
        "plt.plot(recall_ann, precision_ann, label='ANN')\n",
        "plt.plot(recall_rf, precision_rf, label='Randomforest')\n",
        "plt.plot(recall_xgb, precision_xgb, label='XGBoost')\n",
        "plt.title('Precision vs. Recall')\n",
        "plt.xlabel('Recall')\n",
        "plt.ylabel('Precision')\n",
        "plt.legend(loc='best')\n",
        "plt.show()"
      ],
      "execution_count": 152,
      "outputs": [
        {
          "output_type": "display_data",
          "data": {
            "image/png": "[encoded data removed]",
            "text/plain": [
              "<Figure size 432x288 with 1 Axes>"
            ]
          },
          "metadata": {
            "tags": [],
            "needs_background": "light"
          }
        }
      ]
    }
  ]
}